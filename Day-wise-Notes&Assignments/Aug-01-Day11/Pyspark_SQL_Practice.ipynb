{
  "nbformat": 4,
  "nbformat_minor": 0,
  "metadata": {
    "colab": {
      "provenance": []
    },
    "kernelspec": {
      "name": "python3",
      "display_name": "Python 3"
    },
    "language_info": {
      "name": "python"
    }
  },
  "cells": [
    {
      "cell_type": "code",
      "execution_count": 2,
      "metadata": {
        "id": "llk-g3i11f_O",
        "colab": {
          "base_uri": "https://localhost:8080/",
          "height": 219
        },
        "outputId": "3c14961b-2587-41ec-f105-cd6e83648ee6"
      },
      "outputs": [
        {
          "output_type": "execute_result",
          "data": {
            "text/plain": [
              "<pyspark.sql.session.SparkSession at 0x7c324ce63010>"
            ],
            "text/html": [
              "\n",
              "            <div>\n",
              "                <p><b>SparkSession - in-memory</b></p>\n",
              "                \n",
              "        <div>\n",
              "            <p><b>SparkContext</b></p>\n",
              "\n",
              "            <p><a href=\"http://c9c84b73239b:4040\">Spark UI</a></p>\n",
              "\n",
              "            <dl>\n",
              "              <dt>Version</dt>\n",
              "                <dd><code>v3.5.1</code></dd>\n",
              "              <dt>Master</dt>\n",
              "                <dd><code>local[*]</code></dd>\n",
              "              <dt>AppName</dt>\n",
              "                <dd><code>SparkSQLExample</code></dd>\n",
              "            </dl>\n",
              "        </div>\n",
              "        \n",
              "            </div>\n",
              "        "
            ]
          },
          "metadata": {},
          "execution_count": 2
        }
      ],
      "source": [
        "from pyspark.sql import SparkSession\n",
        "spark  = SparkSession.builder.appName(\"SparkSQLExample\").getOrCreate()\n",
        "spark"
      ]
    },
    {
      "cell_type": "code",
      "source": [
        "from pyspark.sql import Row\n",
        "\n",
        "# Sample employee data\n",
        "data = [\n",
        "    Row(EmpID=101, Name=\"Ravi\", Department=\"Sales\", Salary=50000),\n",
        "    Row(EmpID=102, Name=\"Sneha\", Department=\"Engineering\", Salary=80000),\n",
        "    Row(EmpID=103, Name=\"Kabir\", Department=\"HR\", Salary=45000),\n",
        "    Row(EmpID=104, Name=\"Anita\", Department=\"Engineering\", Salary=85000),\n",
        "    Row(EmpID=105, Name=\"Amit\", Department=\"Sales\", Salary=55000),\n",
        "]\n",
        "\n",
        "df = spark.createDataFrame(data)\n",
        "df.show()"
      ],
      "metadata": {
        "colab": {
          "base_uri": "https://localhost:8080/"
        },
        "id": "gw-s98af3JXW",
        "outputId": "30726971-4d44-469c-b074-bc5435b5cd13"
      },
      "execution_count": 3,
      "outputs": [
        {
          "output_type": "stream",
          "name": "stdout",
          "text": [
            "+-----+-----+-----------+------+\n",
            "|EmpID| Name| Department|Salary|\n",
            "+-----+-----+-----------+------+\n",
            "|  101| Ravi|      Sales| 50000|\n",
            "|  102|Sneha|Engineering| 80000|\n",
            "|  103|Kabir|         HR| 45000|\n",
            "|  104|Anita|Engineering| 85000|\n",
            "|  105| Amit|      Sales| 55000|\n",
            "+-----+-----+-----------+------+\n",
            "\n"
          ]
        }
      ]
    },
    {
      "cell_type": "code",
      "source": [
        "df.createOrReplaceTempView(\"employees\")"
      ],
      "metadata": {
        "id": "O47QeoHJ3ayY"
      },
      "execution_count": 4,
      "outputs": []
    },
    {
      "cell_type": "code",
      "source": [
        "spark.sql(\"SELECT * FROM employees\").show()"
      ],
      "metadata": {
        "colab": {
          "base_uri": "https://localhost:8080/"
        },
        "id": "zMgcO9fr3gff",
        "outputId": "d8582612-40b7-433e-cd0d-e21852beeb46"
      },
      "execution_count": 5,
      "outputs": [
        {
          "output_type": "stream",
          "name": "stdout",
          "text": [
            "+-----+-----+-----------+------+\n",
            "|EmpID| Name| Department|Salary|\n",
            "+-----+-----+-----------+------+\n",
            "|  101| Ravi|      Sales| 50000|\n",
            "|  102|Sneha|Engineering| 80000|\n",
            "|  103|Kabir|         HR| 45000|\n",
            "|  104|Anita|Engineering| 85000|\n",
            "|  105| Amit|      Sales| 55000|\n",
            "+-----+-----+-----------+------+\n",
            "\n"
          ]
        }
      ]
    },
    {
      "cell_type": "code",
      "source": [
        "spark.sql(\"SELECT Name, Salary FROM employees WHERE Salary > 60000\").show()"
      ],
      "metadata": {
        "colab": {
          "base_uri": "https://localhost:8080/"
        },
        "id": "3_uL_ulx3kZq",
        "outputId": "3858fa1f-76aa-4240-f1dc-cd6f1cc96e4f"
      },
      "execution_count": 6,
      "outputs": [
        {
          "output_type": "stream",
          "name": "stdout",
          "text": [
            "+-----+------+\n",
            "| Name|Salary|\n",
            "+-----+------+\n",
            "|Sneha| 80000|\n",
            "|Anita| 85000|\n",
            "+-----+------+\n",
            "\n"
          ]
        }
      ]
    },
    {
      "cell_type": "code",
      "source": [
        "spark.sql(\"\"\"\n",
        "SELECT Department, AVG(Salary) AS AvgSalary\n",
        "FROM employees\n",
        "GROUP BY Department\n",
        "\"\"\").show()"
      ],
      "metadata": {
        "colab": {
          "base_uri": "https://localhost:8080/"
        },
        "id": "sHoYwrDi3vSD",
        "outputId": "c53dbc9c-fbe9-400e-fa15-e4850f0c7742"
      },
      "execution_count": 7,
      "outputs": [
        {
          "output_type": "stream",
          "name": "stdout",
          "text": [
            "+-----------+---------+\n",
            "| Department|AvgSalary|\n",
            "+-----------+---------+\n",
            "|      Sales|  52500.0|\n",
            "|Engineering|  82500.0|\n",
            "|         HR|  45000.0|\n",
            "+-----------+---------+\n",
            "\n"
          ]
        }
      ]
    },
    {
      "cell_type": "code",
      "source": [
        "spark.sql(\"SELECT Name, Salary FROM employees ORDER BY Salary DESC\").show()"
      ],
      "metadata": {
        "colab": {
          "base_uri": "https://localhost:8080/"
        },
        "id": "CrKL1yvd34lP",
        "outputId": "b37e5ae8-fd58-4232-8d3c-41d251f8636f"
      },
      "execution_count": 8,
      "outputs": [
        {
          "output_type": "stream",
          "name": "stdout",
          "text": [
            "+-----+------+\n",
            "| Name|Salary|\n",
            "+-----+------+\n",
            "|Anita| 85000|\n",
            "|Sneha| 80000|\n",
            "| Amit| 55000|\n",
            "| Ravi| 50000|\n",
            "|Kabir| 45000|\n",
            "+-----+------+\n",
            "\n"
          ]
        }
      ]
    },
    {
      "cell_type": "code",
      "source": [
        "# Global Temporary View\n",
        "df.createOrReplaceGlobalTempView(\"employees_global\")\n"
      ],
      "metadata": {
        "id": "B1QoW_Zl5-k6"
      },
      "execution_count": 9,
      "outputs": []
    },
    {
      "cell_type": "code",
      "source": [
        "spark.sql(\"SELECT * FROM global_temp.employees_global WHERE Salary > 40000\").show()"
      ],
      "metadata": {
        "colab": {
          "base_uri": "https://localhost:8080/"
        },
        "id": "If9YNyL46M3I",
        "outputId": "4318ecd5-5c8d-41cf-bb3f-a8013f169acd"
      },
      "execution_count": 10,
      "outputs": [
        {
          "output_type": "stream",
          "name": "stdout",
          "text": [
            "+-----+-----+-----------+------+\n",
            "|EmpID| Name| Department|Salary|\n",
            "+-----+-----+-----------+------+\n",
            "|  101| Ravi|      Sales| 50000|\n",
            "|  102|Sneha|Engineering| 80000|\n",
            "|  103|Kabir|         HR| 45000|\n",
            "|  104|Anita|Engineering| 85000|\n",
            "|  105| Amit|      Sales| 55000|\n",
            "+-----+-----+-----------+------+\n",
            "\n"
          ]
        }
      ]
    },
    {
      "cell_type": "code",
      "source": [
        "new_spark = SparkSession.builder.appName(\"NewSession\").getOrCreate()\n",
        "new_spark.sql(\"SELECT * FROM global_temp.employees_global\").show()"
      ],
      "metadata": {
        "colab": {
          "base_uri": "https://localhost:8080/"
        },
        "id": "jb7EWqQO6UZk",
        "outputId": "787b5179-2160-49ad-cb2f-564d36f8d5cb"
      },
      "execution_count": 11,
      "outputs": [
        {
          "output_type": "stream",
          "name": "stdout",
          "text": [
            "+-----+-----+-----------+------+\n",
            "|EmpID| Name| Department|Salary|\n",
            "+-----+-----+-----------+------+\n",
            "|  101| Ravi|      Sales| 50000|\n",
            "|  102|Sneha|Engineering| 80000|\n",
            "|  103|Kabir|         HR| 45000|\n",
            "|  104|Anita|Engineering| 85000|\n",
            "|  105| Amit|      Sales| 55000|\n",
            "+-----+-----+-----------+------+\n",
            "\n"
          ]
        }
      ]
    }
  ]
}