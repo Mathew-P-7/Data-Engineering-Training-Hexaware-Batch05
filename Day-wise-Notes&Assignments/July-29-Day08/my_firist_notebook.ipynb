{
  "nbformat": 4,
  "nbformat_minor": 0,
  "metadata": {
    "colab": {
      "provenance": []
    },
    "kernelspec": {
      "name": "python3",
      "display_name": "Python 3"
    },
    "language_info": {
      "name": "python"
    }
  },
  "cells": [
    {
      "cell_type": "markdown",
      "source": [
        "#My First Notebook\n",
        "This notebook prints a greeting using a variable\n"
      ],
      "metadata": {
        "id": "sJL2KutH_UOl"
      }
    },
    {
      "cell_type": "code",
      "execution_count": 1,
      "metadata": {
        "colab": {
          "base_uri": "https://localhost:8080/"
        },
        "id": "YAvtwvAa8-eP",
        "outputId": "42cc75ae-2792-48fd-a845-3d523a39b744"
      },
      "outputs": [
        {
          "output_type": "stream",
          "name": "stdout",
          "text": [
            "Hello Master  Mathew\n"
          ]
        }
      ],
      "source": [
        "name = \"Mathew\"\n",
        "print(\"Hello Master \", name)"
      ]
    },
    {
      "cell_type": "code",
      "source": [
        "# Simple Python code\n",
        "length  = 10\n",
        "width = 5\n",
        "\n",
        "area = length * width\n",
        "\n",
        "print(\"The area of rectangele is :\", area)"
      ],
      "metadata": {
        "colab": {
          "base_uri": "https://localhost:8080/"
        },
        "id": "Nietdmyg_pjj",
        "outputId": "85f58698-35ed-4c6b-f132-29daeb06041e"
      },
      "execution_count": 2,
      "outputs": [
        {
          "output_type": "stream",
          "name": "stdout",
          "text": [
            "The area of rectangele is : 50\n"
          ]
        }
      ]
    },
    {
      "cell_type": "code",
      "source": [
        "import pandas as pd\n",
        "\n",
        "data = {\n",
        "    'Name': ['Raj', 'Priya', 'Amit'],\n",
        "    'Age': [25, 30, 22],\n",
        "    'City': ['Delhi', 'Mumbai', 'Bangalore']\n",
        "}\n",
        "\n",
        "df = pd.DataFrame(data)\n",
        "\n",
        "print(df)\n"
      ],
      "metadata": {
        "colab": {
          "base_uri": "https://localhost:8080/"
        },
        "id": "7i-DgH0WCTYY",
        "outputId": "9dbf2717-b72d-4700-aff4-2fd1a0e57a9e"
      },
      "execution_count": 3,
      "outputs": [
        {
          "output_type": "stream",
          "name": "stdout",
          "text": [
            "    Name  Age       City\n",
            "0    Raj   25      Delhi\n",
            "1  Priya   30     Mumbai\n",
            "2   Amit   22  Bangalore\n"
          ]
        }
      ]
    },
    {
      "cell_type": "code",
      "source": [
        "print(df['Name'])"
      ],
      "metadata": {
        "colab": {
          "base_uri": "https://localhost:8080/"
        },
        "id": "c7mPPjiyaiaQ",
        "outputId": "dbb8c9a2-2a44-409b-dc36-d3f97922e16b"
      },
      "execution_count": 4,
      "outputs": [
        {
          "output_type": "stream",
          "name": "stdout",
          "text": [
            "0      Raj\n",
            "1    Priya\n",
            "2     Amit\n",
            "Name: Name, dtype: object\n"
          ]
        }
      ]
    },
    {
      "cell_type": "code",
      "source": [
        "print(df.shape) # (rows, columns)"
      ],
      "metadata": {
        "colab": {
          "base_uri": "https://localhost:8080/"
        },
        "id": "NS8Tr-Ygant-",
        "outputId": "4a37cf3e-37da-458f-ab36-3151770385de"
      },
      "execution_count": 5,
      "outputs": [
        {
          "output_type": "stream",
          "name": "stdout",
          "text": [
            "(3, 3)\n"
          ]
        }
      ]
    },
    {
      "cell_type": "code",
      "source": [
        "print(df.columns)# Column names"
      ],
      "metadata": {
        "colab": {
          "base_uri": "https://localhost:8080/"
        },
        "id": "eKLUU-CRarfF",
        "outputId": "01d9d51e-5cdd-45a5-8aa7-f7cbc234dfce"
      },
      "execution_count": 6,
      "outputs": [
        {
          "output_type": "stream",
          "name": "stdout",
          "text": [
            "Index(['Name', 'Age', 'City'], dtype='object')\n"
          ]
        }
      ]
    },
    {
      "cell_type": "code",
      "source": [
        "print(df.info()) #Data types and memory usuage"
      ],
      "metadata": {
        "colab": {
          "base_uri": "https://localhost:8080/"
        },
        "id": "A5yz9JjzavkF",
        "outputId": "bee97daf-2ee4-4dde-d30c-ca6dbfe1fd77"
      },
      "execution_count": 7,
      "outputs": [
        {
          "output_type": "stream",
          "name": "stdout",
          "text": [
            "<class 'pandas.core.frame.DataFrame'>\n",
            "RangeIndex: 3 entries, 0 to 2\n",
            "Data columns (total 3 columns):\n",
            " #   Column  Non-Null Count  Dtype \n",
            "---  ------  --------------  ----- \n",
            " 0   Name    3 non-null      object\n",
            " 1   Age     3 non-null      int64 \n",
            " 2   City    3 non-null      object\n",
            "dtypes: int64(1), object(2)\n",
            "memory usage: 204.0+ bytes\n",
            "None\n"
          ]
        }
      ]
    },
    {
      "cell_type": "code",
      "source": [
        "print(df.describe()) # Stats (only numeric columns)"
      ],
      "metadata": {
        "colab": {
          "base_uri": "https://localhost:8080/"
        },
        "id": "7aOcAhyqavXv",
        "outputId": "23c7654c-164f-493a-9cc4-f1cd474838e2"
      },
      "execution_count": 8,
      "outputs": [
        {
          "output_type": "stream",
          "name": "stdout",
          "text": [
            "             Age\n",
            "count   3.000000\n",
            "mean   25.666667\n",
            "std     4.041452\n",
            "min    22.000000\n",
            "25%    23.500000\n",
            "50%    25.000000\n",
            "75%    27.500000\n",
            "max    30.000000\n"
          ]
        }
      ]
    },
    {
      "cell_type": "code",
      "source": [
        "# Create a CSV in Colab using file I/O\n",
        "csv_data = \"\"\"Name,Age,Department,Salary\n",
        "Aarav,28,Sales,50000\n",
        "Sneha,32,Engineering,80000\n",
        "Kabir,25,HR,45000\n",
        "Anaya,29,Marketing,60000\n",
        "Rohan,35,Engineering,85000\n",
        "\"\"\"\n",
        "# Save it to a file\n",
        "with open('employees.csv', 'w') as file:\n",
        "  file.write(csv_data)"
      ],
      "metadata": {
        "id": "1Wz2OD1navG_"
      },
      "execution_count": 9,
      "outputs": []
    },
    {
      "cell_type": "code",
      "source": [
        "import pandas as pd\n",
        "\n",
        "df = pd.read_csv('employees.csv')\n",
        "print(df)"
      ],
      "metadata": {
        "colab": {
          "base_uri": "https://localhost:8080/"
        },
        "id": "iZGaaVC_fqVV",
        "outputId": "808132c3-f4f2-4f4b-a60a-41a4af40c4d7"
      },
      "execution_count": 10,
      "outputs": [
        {
          "output_type": "stream",
          "name": "stdout",
          "text": [
            "    Name  Age   Department  Salary\n",
            "0  Aarav   28        Sales   50000\n",
            "1  Sneha   32  Engineering   80000\n",
            "2  Kabir   25           HR   45000\n",
            "3  Anaya   29    Marketing   60000\n",
            "4  Rohan   35  Engineering   85000\n"
          ]
        }
      ]
    },
    {
      "cell_type": "code",
      "source": [
        "engg_employees = df[df['Department'] == 'Engineerin']\n",
        "print(engg_employees)"
      ],
      "metadata": {
        "colab": {
          "base_uri": "https://localhost:8080/"
        },
        "id": "zVIgdd3Ehk-e",
        "outputId": "f156d624-7dde-4a79-eefc-aa82f84f8b1a"
      },
      "execution_count": 11,
      "outputs": [
        {
          "output_type": "stream",
          "name": "stdout",
          "text": [
            "Empty DataFrame\n",
            "Columns: [Name, Age, Department, Salary]\n",
            "Index: []\n"
          ]
        }
      ]
    },
    {
      "cell_type": "code",
      "source": [
        "average_salary = df['Salary'].mean()\n",
        "print('Average salary: ',average_salary)"
      ],
      "metadata": {
        "colab": {
          "base_uri": "https://localhost:8080/"
        },
        "id": "wqBVcf5Jh1bz",
        "outputId": "e198bfed-d9f4-48e6-8b74-ec7cad72803e"
      },
      "execution_count": 12,
      "outputs": [
        {
          "output_type": "stream",
          "name": "stdout",
          "text": [
            "Average salary:  64000.0\n"
          ]
        }
      ]
    },
    {
      "cell_type": "code",
      "source": [
        "highest_paid = df[df['Salary'] == df['Salary'].max()]\n",
        "print('Highest paid Employee:\\n',highest_paid)"
      ],
      "metadata": {
        "colab": {
          "base_uri": "https://localhost:8080/"
        },
        "id": "zHhi-72ih9s8",
        "outputId": "db32258c-e5f8-49c8-f8b6-8bea6f8dba83"
      },
      "execution_count": 16,
      "outputs": [
        {
          "output_type": "stream",
          "name": "stdout",
          "text": [
            "Highest paid Employee:\n",
            "     Name  Age   Department  Salary\n",
            "4  Rohan   35  Engineering   85000\n"
          ]
        }
      ]
    },
    {
      "cell_type": "code",
      "source": [
        "avg_salary_by_dept = df.groupby('Department')['Salary'].mean()\n",
        "print('Average salary by department:\\n',avg_salary_by_dept)"
      ],
      "metadata": {
        "colab": {
          "base_uri": "https://localhost:8080/"
        },
        "id": "QQqnNIP6kXaa",
        "outputId": "486c65a8-975d-4b94-cfcd-f4ffabb23c1c"
      },
      "execution_count": 20,
      "outputs": [
        {
          "output_type": "stream",
          "name": "stdout",
          "text": [
            "Average salary by department:\n",
            " Department\n",
            "Engineering    82500.0\n",
            "HR             45000.0\n",
            "Marketing      60000.0\n",
            "Sales          50000.0\n",
            "Name: Salary, dtype: float64\n"
          ]
        }
      ]
    },
    {
      "cell_type": "code",
      "source": [
        "sorted_by_age = df.sort_values(by='Age')\n",
        "print(\"Sorted by Age:\\n\", sorted_by_age)"
      ],
      "metadata": {
        "colab": {
          "base_uri": "https://localhost:8080/"
        },
        "id": "LroAD1gxk_v2",
        "outputId": "855bf856-6844-4bca-9860-57a2921d0d5a"
      },
      "execution_count": 18,
      "outputs": [
        {
          "output_type": "stream",
          "name": "stdout",
          "text": [
            "Sorted by Age:\n",
            "     Name  Age   Department  Salary\n",
            "2  Kabir   25           HR   45000\n",
            "0  Aarav   28        Sales   50000\n",
            "3  Anaya   29    Marketing   60000\n",
            "1  Sneha   32  Engineering   80000\n",
            "4  Rohan   35  Engineering   85000\n"
          ]
        }
      ]
    },
    {
      "cell_type": "code",
      "source": [
        "import matplotlib.pyplot as plt\n",
        "\n",
        "# plotting\n",
        "plt.figure(figsize=(8,5))\n",
        "plt.bar(df['Name'], df['Salary'], color='pink' )\n",
        "plt.xlabel('Employee')\n",
        "plt.ylabel('Salary')\n",
        "plt.title('Salary of Employees')\n",
        "plt.xticks(rotation=45)\n",
        "plt.grid(True)\n",
        "plt.tight_layout()\n",
        "plt.show()"
      ],
      "metadata": {
        "colab": {
          "base_uri": "https://localhost:8080/",
          "height": 417
        },
        "id": "PtysurBVlQ8J",
        "outputId": "15b7450a-c58c-421c-f2ee-62455c59554e"
      },
      "execution_count": 22,
      "outputs": [
        {
          "output_type": "display_data",
          "data": {
            "text/plain": [
              "<Figure size 800x500 with 1 Axes>"
            ],
            "image/png": "[encoded data removed]"
          },
          "metadata": {}
        }
      ]
    }
  ]
}