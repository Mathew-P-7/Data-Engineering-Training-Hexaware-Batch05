{
  "nbformat": 4,
  "nbformat_minor": 0,
  "metadata": {
    "colab": {
      "provenance": []
    },
    "kernelspec": {
      "name": "python3",
      "display_name": "Python 3"
    },
    "language_info": {
      "name": "python"
    }
  },
  "cells": [
    {
      "cell_type": "markdown",
      "source": [
        "## Master DataFrame Assignment – Retail Sales Superstore Dataset (All-In-One)"
      ],
      "metadata": {
        "id": "IlkPrks7DRO9"
      }
    },
    {
      "cell_type": "code",
      "execution_count": 10,
      "metadata": {
        "colab": {
          "base_uri": "https://localhost:8080/"
        },
        "id": "HYUdLjIpuZR1",
        "outputId": "ceca874a-d262-44e5-e151-0c59fa3f2894"
      },
      "outputs": [
        {
          "output_type": "stream",
          "name": "stdout",
          "text": [
            "Drive already mounted at /content/mydrive; to attempt to forcibly remount, call drive.mount(\"/content/mydrive\", force_remount=True).\n"
          ]
        }
      ],
      "source": [
        "from google.colab import drive\n",
        "drive.mount('/content/mydrive')"
      ]
    },
    {
      "cell_type": "markdown",
      "source": [
        "TASKS ACROSS Pandas, PySpark, and Dask\n",
        "\n",
        "PART 1: Pandas DataFrame Operations\n",
        "1. Load the CSV using pandas .\n",
        "2. Print schema, head, shape, dtypes.\n",
        "3. Select Customer , Product , Profit columns.\n",
        "4. Filter orders where Profit > 2000 and Discount = 0 .\n",
        "5. Sort by Profit descending.\n",
        "6. GroupBy Category → Total Profit, Avg Discount.\n",
        "7. Add a column TotalPrice = Quantity * UnitPrice .\n",
        "8. Drop the SubCategory column.\n",
        "9. Fill nulls in Discount with 0.10.\n",
        "10. Apply a function to categorize orders:\n"
      ],
      "metadata": {
        "id": "1DZ5yX1lvmfA"
      }
    },
    {
      "cell_type": "code",
      "source": [
        "# 1\n",
        "import pandas as pd\n",
        "path = '/content/mydrive/MyDrive/Hexware_Training_DataEngineering/superstore.csv'\n",
        "\n",
        "# 2\n",
        "df = pd.read_csv(path)\n",
        "print(\"Schema info: \\n\", df.info())\n",
        "print(\"\\n Head: \\n\", df.head())\n",
        "print(\"\\n Shape: \\n\", df.shape)\n",
        "print(\"\\n Data types: \\n\", df.dtypes)\n"
      ],
      "metadata": {
        "colab": {
          "base_uri": "https://localhost:8080/"
        },
        "id": "NikMfSCVvlK7",
        "outputId": "c7e8c18a-8de5-465c-f9da-7ca3f4f00cd1"
      },
      "execution_count": 11,
      "outputs": [
        {
          "output_type": "stream",
          "name": "stdout",
          "text": [
            "<class 'pandas.core.frame.DataFrame'>\n",
            "RangeIndex: 6 entries, 0 to 5\n",
            "Data columns (total 12 columns):\n",
            " #   Column       Non-Null Count  Dtype  \n",
            "---  ------       --------------  -----  \n",
            " 0   OrderID      6 non-null      object \n",
            " 1   OrderDate    6 non-null      object \n",
            " 2   Customer     5 non-null      object \n",
            " 3   Segment      5 non-null      object \n",
            " 4   Region       5 non-null      object \n",
            " 5   Product      5 non-null      object \n",
            " 6   Category     5 non-null      object \n",
            " 7   SubCategory  5 non-null      object \n",
            " 8   Quantity     5 non-null      float64\n",
            " 9   UnitPrice    5 non-null      float64\n",
            " 10   Discount    5 non-null      float64\n",
            " 11   Profit      4 non-null      float64\n",
            "dtypes: float64(4), object(8)\n",
            "memory usage: 708.0+ bytes\n",
            "Schema info: \n",
            " None\n",
            "\n",
            " Head: \n",
            "    OrderID   OrderDate   Customer      Segment   Region     Product  \\\n",
            "0  CA-1001  2023-01-15       Ravi     Consumer    South      Laptop   \n",
            "1  CA-1002    2023-02-        NaN          NaN      NaN         NaN   \n",
            "2       20       Priya  Corporate        North  Printer  Technology   \n",
            "3  CA-1003  2023-01-25       Amit     Consumer     East    Notebook   \n",
            "4  CA-1004  2023-03-01      Anita  Home Office     West       Table   \n",
            "\n",
            "          Category SubCategory  Quantity  UnitPrice   Discount   Profit  \n",
            "0       Technology   Computers       1.0   55000.00       0.10   5000.0  \n",
            "1              NaN         NaN       NaN        NaN        NaN      NaN  \n",
            "2      Peripherals           2   12000.0       0.15    1800.00      NaN  \n",
            "3  Office Supplies       Paper       3.0     200.00       0.05    150.0  \n",
            "4        Furniture      Tables       1.0   18000.00       0.20  -1500.0  \n",
            "\n",
            " Shape: \n",
            " (6, 12)\n",
            "\n",
            " Data types: \n",
            " OrderID         object\n",
            "OrderDate       object\n",
            "Customer        object\n",
            "Segment         object\n",
            "Region          object\n",
            "Product         object\n",
            "Category        object\n",
            "SubCategory     object\n",
            "Quantity       float64\n",
            "UnitPrice      float64\n",
            " Discount      float64\n",
            " Profit        float64\n",
            "dtype: object\n"
          ]
        }
      ]
    },
    {
      "cell_type": "code",
      "source": [
        "print(df)"
      ],
      "metadata": {
        "colab": {
          "base_uri": "https://localhost:8080/"
        },
        "id": "sCSiEAQQyYcX",
        "outputId": "34102b42-b1f7-446d-b2ed-9fc6843ae01b"
      },
      "execution_count": 12,
      "outputs": [
        {
          "output_type": "stream",
          "name": "stdout",
          "text": [
            "   OrderID   OrderDate   Customer      Segment   Region     Product  \\\n",
            "0  CA-1001  2023-01-15       Ravi     Consumer    South      Laptop   \n",
            "1  CA-1002    2023-02-        NaN          NaN      NaN         NaN   \n",
            "2       20       Priya  Corporate        North  Printer  Technology   \n",
            "3  CA-1003  2023-01-25       Amit     Consumer     East    Notebook   \n",
            "4  CA-1004  2023-03-01      Anita  Home Office     West       Table   \n",
            "5  CA-1005  2023-02-05      Divya     Consumer    South       Phone   \n",
            "\n",
            "          Category SubCategory  Quantity  UnitPrice   Discount   Profit  \n",
            "0       Technology   Computers       1.0   55000.00       0.10   5000.0  \n",
            "1              NaN         NaN       NaN        NaN        NaN      NaN  \n",
            "2      Peripherals           2   12000.0       0.15    1800.00      NaN  \n",
            "3  Office Supplies       Paper       3.0     200.00       0.05    150.0  \n",
            "4        Furniture      Tables       1.0   18000.00       0.20  -1500.0  \n",
            "5       Technology      Phones       2.0   20000.00       0.00   3000.0  \n"
          ]
        }
      ]
    },
    {
      "cell_type": "code",
      "source": [
        "# 3\n",
        "df.columns = df.columns.str.strip()\n",
        "print(df[['Customer', 'Product', 'Profit']])\n"
      ],
      "metadata": {
        "colab": {
          "base_uri": "https://localhost:8080/"
        },
        "id": "EoioCKf-x0QD",
        "outputId": "7b854c3c-a8bb-4e6f-f071-0a1d1ee97aab"
      },
      "execution_count": 17,
      "outputs": [
        {
          "output_type": "stream",
          "name": "stdout",
          "text": [
            "    Customer     Product  Profit\n",
            "0       Ravi      Laptop  5000.0\n",
            "1        NaN         NaN     NaN\n",
            "2  Corporate  Technology     NaN\n",
            "3       Amit    Notebook   150.0\n",
            "4      Anita       Table -1500.0\n",
            "5      Divya       Phone  3000.0\n"
          ]
        }
      ]
    },
    {
      "cell_type": "code",
      "source": [
        "# 4\n",
        "filterd_df = df[(df.Discount == 0) & (df.Profit > 2000)]\n",
        "print(filterd_df)"
      ],
      "metadata": {
        "colab": {
          "base_uri": "https://localhost:8080/"
        },
        "id": "_gu5pEjO0ASb",
        "outputId": "6e770798-22bf-4405-9944-e899ee8ee4e7"
      },
      "execution_count": 19,
      "outputs": [
        {
          "output_type": "stream",
          "name": "stdout",
          "text": [
            "   OrderID   OrderDate Customer   Segment Region Product    Category  \\\n",
            "5  CA-1005  2023-02-05    Divya  Consumer  South   Phone  Technology   \n",
            "\n",
            "  SubCategory  Quantity  UnitPrice  Discount  Profit  \n",
            "5      Phones       2.0    20000.0       0.0  3000.0  \n"
          ]
        }
      ]
    },
    {
      "cell_type": "code",
      "source": [
        "# 5\n",
        "sorted_df =  df.sort_values(by='Profit', ascending=False)\n",
        "print(sorted_df)"
      ],
      "metadata": {
        "colab": {
          "base_uri": "https://localhost:8080/"
        },
        "id": "_98fnuQx1Fmk",
        "outputId": "ebf49514-e503-4cd1-bad9-ff42ed46a999"
      },
      "execution_count": 20,
      "outputs": [
        {
          "output_type": "stream",
          "name": "stdout",
          "text": [
            "   OrderID   OrderDate   Customer      Segment   Region     Product  \\\n",
            "0  CA-1001  2023-01-15       Ravi     Consumer    South      Laptop   \n",
            "5  CA-1005  2023-02-05      Divya     Consumer    South       Phone   \n",
            "3  CA-1003  2023-01-25       Amit     Consumer     East    Notebook   \n",
            "4  CA-1004  2023-03-01      Anita  Home Office     West       Table   \n",
            "1  CA-1002    2023-02-        NaN          NaN      NaN         NaN   \n",
            "2       20       Priya  Corporate        North  Printer  Technology   \n",
            "\n",
            "          Category SubCategory  Quantity  UnitPrice  Discount  Profit  \n",
            "0       Technology   Computers       1.0   55000.00      0.10  5000.0  \n",
            "5       Technology      Phones       2.0   20000.00      0.00  3000.0  \n",
            "3  Office Supplies       Paper       3.0     200.00      0.05   150.0  \n",
            "4        Furniture      Tables       1.0   18000.00      0.20 -1500.0  \n",
            "1              NaN         NaN       NaN        NaN       NaN     NaN  \n",
            "2      Peripherals           2   12000.0       0.15   1800.00     NaN  \n"
          ]
        }
      ]
    },
    {
      "cell_type": "code",
      "source": [
        "# 6\n",
        "grouped_df = df.groupby('Category').agg({'Profit': 'sum', 'Discount':'mean'})\n",
        "print(grouped_df)"
      ],
      "metadata": {
        "colab": {
          "base_uri": "https://localhost:8080/"
        },
        "id": "kpnOQRsh1qZI",
        "outputId": "7139413e-e004-4555-c524-de3b04533d7a"
      },
      "execution_count": 21,
      "outputs": [
        {
          "output_type": "stream",
          "name": "stdout",
          "text": [
            "                 Profit  Discount\n",
            "Category                         \n",
            "Furniture       -1500.0      0.20\n",
            "Office Supplies   150.0      0.05\n",
            "Peripherals         0.0   1800.00\n",
            "Technology       8000.0      0.05\n"
          ]
        }
      ]
    },
    {
      "cell_type": "code",
      "source": [
        "#  7\n",
        "df['TotalPrice'] = df['Quantity']*df['UnitPrice']\n",
        "print(df)"
      ],
      "metadata": {
        "colab": {
          "base_uri": "https://localhost:8080/"
        },
        "id": "Mg5rsucD2uy8",
        "outputId": "5888e75a-5ed6-4beb-b083-2e03a8c191de"
      },
      "execution_count": 29,
      "outputs": [
        {
          "output_type": "stream",
          "name": "stdout",
          "text": [
            "   OrderID   OrderDate   Customer      Segment   Region     Product  \\\n",
            "0  CA-1001  2023-01-15       Ravi     Consumer    South      Laptop   \n",
            "1  CA-1002    2023-02-        NaN          NaN      NaN         NaN   \n",
            "2       20       Priya  Corporate        North  Printer  Technology   \n",
            "3  CA-1003  2023-01-25       Amit     Consumer     East    Notebook   \n",
            "4  CA-1004  2023-03-01      Anita  Home Office     West       Table   \n",
            "5  CA-1005  2023-02-05      Divya     Consumer    South       Phone   \n",
            "\n",
            "          Category  Quantity  UnitPrice  Discount  Profit  TotalPrice  \n",
            "0       Technology       1.0   55000.00      0.10  5000.0     55000.0  \n",
            "1              NaN       NaN        NaN       NaN     NaN         NaN  \n",
            "2      Peripherals   12000.0       0.15   1800.00     NaN      1800.0  \n",
            "3  Office Supplies       3.0     200.00      0.05   150.0       600.0  \n",
            "4        Furniture       1.0   18000.00      0.20 -1500.0     18000.0  \n",
            "5       Technology       2.0   20000.00      0.00  3000.0     40000.0  \n"
          ]
        }
      ]
    },
    {
      "cell_type": "code",
      "source": [
        "#  8\n",
        "df = df.drop(columns=['SubCategory'])"
      ],
      "metadata": {
        "id": "WHLlG5Ja3HfE"
      },
      "execution_count": null,
      "outputs": []
    },
    {
      "cell_type": "code",
      "source": [
        "#  9\n",
        "df['Discount'] = df['Discount'].fillna(0.10)"
      ],
      "metadata": {
        "id": "lr8haPqK3h02"
      },
      "execution_count": 32,
      "outputs": []
    },
    {
      "cell_type": "code",
      "source": [
        "# 10\n",
        "def classify(row):\n",
        "    if row['Profit'] > 4000:\n",
        "        return 'High'\n",
        "    elif row['Profit'] > 0:\n",
        "        return 'Medium'\n",
        "    else:\n",
        "        return 'Low'\n",
        "\n",
        "df['ProfitLevel'] = df.apply(classify, axis=1)\n",
        "print(df)"
      ],
      "metadata": {
        "colab": {
          "base_uri": "https://localhost:8080/"
        },
        "id": "nwXkvDDc4BDF",
        "outputId": "28d89928-f33f-42a6-e795-ae285ba1dee0"
      },
      "execution_count": 33,
      "outputs": [
        {
          "output_type": "stream",
          "name": "stdout",
          "text": [
            "   OrderID   OrderDate   Customer      Segment   Region     Product  \\\n",
            "0  CA-1001  2023-01-15       Ravi     Consumer    South      Laptop   \n",
            "1  CA-1002    2023-02-        NaN          NaN      NaN         NaN   \n",
            "2       20       Priya  Corporate        North  Printer  Technology   \n",
            "3  CA-1003  2023-01-25       Amit     Consumer     East    Notebook   \n",
            "4  CA-1004  2023-03-01      Anita  Home Office     West       Table   \n",
            "5  CA-1005  2023-02-05      Divya     Consumer    South       Phone   \n",
            "\n",
            "          Category  Quantity  UnitPrice  Discount  Profit  TotalPrice  \\\n",
            "0       Technology       1.0   55000.00      0.10  5000.0     55000.0   \n",
            "1              NaN       NaN        NaN      0.10     NaN         NaN   \n",
            "2      Peripherals   12000.0       0.15   1800.00     NaN      1800.0   \n",
            "3  Office Supplies       3.0     200.00      0.05   150.0       600.0   \n",
            "4        Furniture       1.0   18000.00      0.20 -1500.0     18000.0   \n",
            "5       Technology       2.0   20000.00      0.00  3000.0     40000.0   \n",
            "\n",
            "  ProfitLevel  \n",
            "0        High  \n",
            "1         Low  \n",
            "2         Low  \n",
            "3      Medium  \n",
            "4         Low  \n",
            "5      Medium  \n"
          ]
        }
      ]
    },
    {
      "cell_type": "markdown",
      "source": [
        "PART 2: PySpark DataFrame Operations\n",
        "1. Load the same CSV using PySpark.\n",
        "2. Show schema and first 5 rows.\n",
        "3. Select columns, Rename Customer → Client .\n",
        "4. Filter Segment = 'Consumer' and Profit < 1000 .\n",
        "5. GroupBy Region and show average profit.\n",
        "6. Use withColumn to create TotalPrice = Quantity * UnitPrice .\n",
        "7. Use when().otherwise() to classify Profit as:\n",
        "\n",
        "* 'Profit' > 2000 → 'High'\n",
        "* 'Profit' <= 0 → 'Loss'\n",
        "else 'Medium'\n",
        "8. Use drop() to remove SubCategory .\n",
        "9. Handle nulls in Discount using fillna(0.10) .\n",
        "10. Convert OrderDate to date type and extract year , month"
      ],
      "metadata": {
        "id": "uxIA2aim4Xf8"
      }
    },
    {
      "cell_type": "code",
      "source": [
        "from pyspark.sql import SparkSession\n",
        "spark = SparkSession.builder \\\n",
        "        .appName(\"RetailSalesAnalysis\") \\\n",
        "        .getOrCreate()\n",
        "\n",
        "spark"
      ],
      "metadata": {
        "colab": {
          "base_uri": "https://localhost:8080/",
          "height": 219
        },
        "id": "LCoaNK334xkM",
        "outputId": "13f71fdd-750f-4f65-a4de-32e641e54536"
      },
      "execution_count": 34,
      "outputs": [
        {
          "output_type": "execute_result",
          "data": {
            "text/plain": [
              "<pyspark.sql.session.SparkSession at 0x7dcd589f52d0>"
            ],
            "text/html": [
              "\n",
              "            <div>\n",
              "                <p><b>SparkSession - in-memory</b></p>\n",
              "                \n",
              "        <div>\n",
              "            <p><b>SparkContext</b></p>\n",
              "\n",
              "            <p><a href=\"http://670f50b980f2:4040\">Spark UI</a></p>\n",
              "\n",
              "            <dl>\n",
              "              <dt>Version</dt>\n",
              "                <dd><code>v3.5.1</code></dd>\n",
              "              <dt>Master</dt>\n",
              "                <dd><code>local[*]</code></dd>\n",
              "              <dt>AppName</dt>\n",
              "                <dd><code>RetailSalesAnalysis</code></dd>\n",
              "            </dl>\n",
              "        </div>\n",
              "        \n",
              "            </div>\n",
              "        "
            ]
          },
          "metadata": {},
          "execution_count": 34
        }
      ]
    },
    {
      "cell_type": "code",
      "source": [
        "# 1\n",
        "df = spark.read.csv(path, header=True, inferSchema=True)\n",
        "\n",
        "# 2\n",
        "df.printSchema()\n",
        "df.show(5)"
      ],
      "metadata": {
        "colab": {
          "base_uri": "https://localhost:8080/"
        },
        "id": "R6X29ymS5VIe",
        "outputId": "c144a2dd-3ac5-445c-8ab8-184fa3d703b6"
      },
      "execution_count": 42,
      "outputs": [
        {
          "output_type": "stream",
          "name": "stdout",
          "text": [
            "root\n",
            " |-- OrderID: string (nullable = true)\n",
            " |-- OrderDate: string (nullable = true)\n",
            " |-- Customer: string (nullable = true)\n",
            " |-- Segment: string (nullable = true)\n",
            " |-- Region: string (nullable = true)\n",
            " |-- Product: string (nullable = true)\n",
            " |-- Category: string (nullable = true)\n",
            " |-- SubCategory: string (nullable = true)\n",
            " |-- Quantity: integer (nullable = true)\n",
            " |-- UnitPrice: double (nullable = true)\n",
            " |--  Discount: double (nullable = true)\n",
            " |--  Profit: integer (nullable = true)\n",
            "\n",
            "+-------+----------+---------+-----------+-------+----------+---------------+-----------+--------+---------+---------+-------+\n",
            "|OrderID| OrderDate| Customer|    Segment| Region|   Product|       Category|SubCategory|Quantity|UnitPrice| Discount| Profit|\n",
            "+-------+----------+---------+-----------+-------+----------+---------------+-----------+--------+---------+---------+-------+\n",
            "|CA-1001|2023-01-15|     Ravi|   Consumer|  South|    Laptop|     Technology|  Computers|       1|  55000.0|      0.1|   5000|\n",
            "|CA-1002|  2023-02-|     NULL|       NULL|   NULL|      NULL|           NULL|       NULL|    NULL|     NULL|     NULL|   NULL|\n",
            "|     20|     Priya|Corporate|      North|Printer|Technology|    Peripherals|          2|   12000|     0.15|   1800.0|   NULL|\n",
            "|CA-1003|2023-01-25|     Amit|   Consumer|   East|  Notebook|Office Supplies|      Paper|       3|    200.0|     0.05|    150|\n",
            "|CA-1004|2023-03-01|    Anita|Home Office|   West|     Table|      Furniture|     Tables|       1|  18000.0|      0.2|  -1500|\n",
            "+-------+----------+---------+-----------+-------+----------+---------------+-----------+--------+---------+---------+-------+\n",
            "only showing top 5 rows\n",
            "\n"
          ]
        }
      ]
    },
    {
      "cell_type": "code",
      "source": [
        "# 3\n",
        "from pyspark.sql.functions import *\n",
        "df.select(col('Customer').alias('Client')).show()\n"
      ],
      "metadata": {
        "colab": {
          "base_uri": "https://localhost:8080/"
        },
        "id": "KQ_njAsL5ukf",
        "outputId": "8612f2e0-31d6-49b9-b47c-369711b80415"
      },
      "execution_count": 43,
      "outputs": [
        {
          "output_type": "stream",
          "name": "stdout",
          "text": [
            "+---------+\n",
            "|   Client|\n",
            "+---------+\n",
            "|     Ravi|\n",
            "|     NULL|\n",
            "|Corporate|\n",
            "|     Amit|\n",
            "|    Anita|\n",
            "|    Divya|\n",
            "+---------+\n",
            "\n"
          ]
        }
      ]
    },
    {
      "cell_type": "code",
      "source": [
        "# 4\n",
        "df.filter((col('Segment') == 'Consumer') & (col(' Profit') < 1000)).show()"
      ],
      "metadata": {
        "colab": {
          "base_uri": "https://localhost:8080/"
        },
        "id": "fiNl9yMR7C1c",
        "outputId": "06c34c6b-a448-4688-cafd-beae81074129"
      },
      "execution_count": 45,
      "outputs": [
        {
          "output_type": "stream",
          "name": "stdout",
          "text": [
            "+-------+----------+--------+--------+------+--------+---------------+-----------+--------+---------+---------+-------+\n",
            "|OrderID| OrderDate|Customer| Segment|Region| Product|       Category|SubCategory|Quantity|UnitPrice| Discount| Profit|\n",
            "+-------+----------+--------+--------+------+--------+---------------+-----------+--------+---------+---------+-------+\n",
            "|CA-1003|2023-01-25|    Amit|Consumer|  East|Notebook|Office Supplies|      Paper|       3|    200.0|     0.05|    150|\n",
            "+-------+----------+--------+--------+------+--------+---------------+-----------+--------+---------+---------+-------+\n",
            "\n"
          ]
        }
      ]
    },
    {
      "cell_type": "code",
      "source": [
        "#  5\n",
        "df.groupBy('Region').agg(avg(' Profit').alias('AverageProfit')).show()"
      ],
      "metadata": {
        "colab": {
          "base_uri": "https://localhost:8080/"
        },
        "id": "WHpua-Xz7l4_",
        "outputId": "0bd7a195-9563-4c69-87cf-114b6af1fadd"
      },
      "execution_count": 47,
      "outputs": [
        {
          "output_type": "stream",
          "name": "stdout",
          "text": [
            "+-------+-------------+\n",
            "| Region|AverageProfit|\n",
            "+-------+-------------+\n",
            "|   NULL|         NULL|\n",
            "|  South|       4000.0|\n",
            "|   East|        150.0|\n",
            "|   West|      -1500.0|\n",
            "|Printer|         NULL|\n",
            "+-------+-------------+\n",
            "\n"
          ]
        }
      ]
    },
    {
      "cell_type": "code",
      "source": [
        "#  6\n",
        "df = df.withColumn('TotalPrice', col('Quantity')*col('UnitPrice'))\n",
        "df.show()"
      ],
      "metadata": {
        "colab": {
          "base_uri": "https://localhost:8080/"
        },
        "id": "hTRk2Dnv8NAH",
        "outputId": "c3a60fc0-0843-4b29-c2a3-1d61eafee4ec"
      },
      "execution_count": 48,
      "outputs": [
        {
          "output_type": "stream",
          "name": "stdout",
          "text": [
            "+-------+----------+---------+-----------+-------+----------+---------------+-----------+--------+---------+---------+-------+----------+\n",
            "|OrderID| OrderDate| Customer|    Segment| Region|   Product|       Category|SubCategory|Quantity|UnitPrice| Discount| Profit|TotalPrice|\n",
            "+-------+----------+---------+-----------+-------+----------+---------------+-----------+--------+---------+---------+-------+----------+\n",
            "|CA-1001|2023-01-15|     Ravi|   Consumer|  South|    Laptop|     Technology|  Computers|       1|  55000.0|      0.1|   5000|   55000.0|\n",
            "|CA-1002|  2023-02-|     NULL|       NULL|   NULL|      NULL|           NULL|       NULL|    NULL|     NULL|     NULL|   NULL|      NULL|\n",
            "|     20|     Priya|Corporate|      North|Printer|Technology|    Peripherals|          2|   12000|     0.15|   1800.0|   NULL|    1800.0|\n",
            "|CA-1003|2023-01-25|     Amit|   Consumer|   East|  Notebook|Office Supplies|      Paper|       3|    200.0|     0.05|    150|     600.0|\n",
            "|CA-1004|2023-03-01|    Anita|Home Office|   West|     Table|      Furniture|     Tables|       1|  18000.0|      0.2|  -1500|   18000.0|\n",
            "|CA-1005|2023-02-05|    Divya|   Consumer|  South|     Phone|     Technology|     Phones|       2|  20000.0|      0.0|   3000|   40000.0|\n",
            "+-------+----------+---------+-----------+-------+----------+---------------+-----------+--------+---------+---------+-------+----------+\n",
            "\n"
          ]
        }
      ]
    },
    {
      "cell_type": "code",
      "source": [
        "#  7\n",
        "df = df.withColumn('ProfitLevel', when(col(' Profit') > 2000, \"High\").when(col(' Profit') <= 0, \"Loss\").otherwise(\"Medium\"))\n",
        "df.show()"
      ],
      "metadata": {
        "colab": {
          "base_uri": "https://localhost:8080/"
        },
        "id": "2esCSpcE8kpk",
        "outputId": "3ae3e89e-c457-45b3-e6b6-fb7e7cbf0b1f"
      },
      "execution_count": 51,
      "outputs": [
        {
          "output_type": "stream",
          "name": "stdout",
          "text": [
            "+-------+----------+---------+-----------+-------+----------+---------------+-----------+--------+---------+---------+-------+----------+-----------+\n",
            "|OrderID| OrderDate| Customer|    Segment| Region|   Product|       Category|SubCategory|Quantity|UnitPrice| Discount| Profit|TotalPrice|ProfitLevel|\n",
            "+-------+----------+---------+-----------+-------+----------+---------------+-----------+--------+---------+---------+-------+----------+-----------+\n",
            "|CA-1001|2023-01-15|     Ravi|   Consumer|  South|    Laptop|     Technology|  Computers|       1|  55000.0|      0.1|   5000|   55000.0|       High|\n",
            "|CA-1002|  2023-02-|     NULL|       NULL|   NULL|      NULL|           NULL|       NULL|    NULL|     NULL|     NULL|   NULL|      NULL|     Medium|\n",
            "|     20|     Priya|Corporate|      North|Printer|Technology|    Peripherals|          2|   12000|     0.15|   1800.0|   NULL|    1800.0|     Medium|\n",
            "|CA-1003|2023-01-25|     Amit|   Consumer|   East|  Notebook|Office Supplies|      Paper|       3|    200.0|     0.05|    150|     600.0|     Medium|\n",
            "|CA-1004|2023-03-01|    Anita|Home Office|   West|     Table|      Furniture|     Tables|       1|  18000.0|      0.2|  -1500|   18000.0|       Loss|\n",
            "|CA-1005|2023-02-05|    Divya|   Consumer|  South|     Phone|     Technology|     Phones|       2|  20000.0|      0.0|   3000|   40000.0|       High|\n",
            "+-------+----------+---------+-----------+-------+----------+---------------+-----------+--------+---------+---------+-------+----------+-----------+\n",
            "\n"
          ]
        }
      ]
    },
    {
      "cell_type": "code",
      "source": [
        "#  8\n",
        "df = df.drop(\"SubCategory\")\n",
        "df.show()"
      ],
      "metadata": {
        "colab": {
          "base_uri": "https://localhost:8080/"
        },
        "id": "fGZy8vO29jGe",
        "outputId": "08c1178d-dcd6-4c0b-8da0-f9e4037d8a26"
      },
      "execution_count": 52,
      "outputs": [
        {
          "output_type": "stream",
          "name": "stdout",
          "text": [
            "+-------+----------+---------+-----------+-------+----------+---------------+--------+---------+---------+-------+----------+-----------+\n",
            "|OrderID| OrderDate| Customer|    Segment| Region|   Product|       Category|Quantity|UnitPrice| Discount| Profit|TotalPrice|ProfitLevel|\n",
            "+-------+----------+---------+-----------+-------+----------+---------------+--------+---------+---------+-------+----------+-----------+\n",
            "|CA-1001|2023-01-15|     Ravi|   Consumer|  South|    Laptop|     Technology|       1|  55000.0|      0.1|   5000|   55000.0|       High|\n",
            "|CA-1002|  2023-02-|     NULL|       NULL|   NULL|      NULL|           NULL|    NULL|     NULL|     NULL|   NULL|      NULL|     Medium|\n",
            "|     20|     Priya|Corporate|      North|Printer|Technology|    Peripherals|   12000|     0.15|   1800.0|   NULL|    1800.0|     Medium|\n",
            "|CA-1003|2023-01-25|     Amit|   Consumer|   East|  Notebook|Office Supplies|       3|    200.0|     0.05|    150|     600.0|     Medium|\n",
            "|CA-1004|2023-03-01|    Anita|Home Office|   West|     Table|      Furniture|       1|  18000.0|      0.2|  -1500|   18000.0|       Loss|\n",
            "|CA-1005|2023-02-05|    Divya|   Consumer|  South|     Phone|     Technology|       2|  20000.0|      0.0|   3000|   40000.0|       High|\n",
            "+-------+----------+---------+-----------+-------+----------+---------------+--------+---------+---------+-------+----------+-----------+\n",
            "\n"
          ]
        }
      ]
    },
    {
      "cell_type": "code",
      "source": [
        "#  9\n",
        "df = df.fillna({' Discount': 0.10})\n",
        "df.show()"
      ],
      "metadata": {
        "colab": {
          "base_uri": "https://localhost:8080/"
        },
        "id": "AwuAUCYQ-BqW",
        "outputId": "5a0ef630-ab69-4097-f8ff-b68b9f464cc0"
      },
      "execution_count": 54,
      "outputs": [
        {
          "output_type": "stream",
          "name": "stdout",
          "text": [
            "+-------+----------+---------+-----------+-------+----------+---------------+--------+---------+---------+-------+----------+-----------+\n",
            "|OrderID| OrderDate| Customer|    Segment| Region|   Product|       Category|Quantity|UnitPrice| Discount| Profit|TotalPrice|ProfitLevel|\n",
            "+-------+----------+---------+-----------+-------+----------+---------------+--------+---------+---------+-------+----------+-----------+\n",
            "|CA-1001|2023-01-15|     Ravi|   Consumer|  South|    Laptop|     Technology|       1|  55000.0|      0.1|   5000|   55000.0|       High|\n",
            "|CA-1002|  2023-02-|     NULL|       NULL|   NULL|      NULL|           NULL|    NULL|     NULL|      0.1|   NULL|      NULL|     Medium|\n",
            "|     20|     Priya|Corporate|      North|Printer|Technology|    Peripherals|   12000|     0.15|   1800.0|   NULL|    1800.0|     Medium|\n",
            "|CA-1003|2023-01-25|     Amit|   Consumer|   East|  Notebook|Office Supplies|       3|    200.0|     0.05|    150|     600.0|     Medium|\n",
            "|CA-1004|2023-03-01|    Anita|Home Office|   West|     Table|      Furniture|       1|  18000.0|      0.2|  -1500|   18000.0|       Loss|\n",
            "|CA-1005|2023-02-05|    Divya|   Consumer|  South|     Phone|     Technology|       2|  20000.0|      0.0|   3000|   40000.0|       High|\n",
            "+-------+----------+---------+-----------+-------+----------+---------------+--------+---------+---------+-------+----------+-----------+\n",
            "\n"
          ]
        }
      ]
    },
    {
      "cell_type": "code",
      "source": [
        "#  10\n",
        "df = df.withColumn(\"OrderDate\", to_date(col(\"OrderDate\")))\n",
        "df = df.withColumn(\"Year\", year(\"OrderDate\")).withColumn(\"Month\", month(\"OrderDate\"))\n",
        "df.select(\"OrderID\", \"OrderDate\", \"Year\", \"Month\").show()"
      ],
      "metadata": {
        "colab": {
          "base_uri": "https://localhost:8080/"
        },
        "id": "W3eMW3sa-XgM",
        "outputId": "434f49f2-65f3-4d9c-810a-f52c9a0deafb"
      },
      "execution_count": 55,
      "outputs": [
        {
          "output_type": "stream",
          "name": "stdout",
          "text": [
            "+-------+----------+----+-----+\n",
            "|OrderID| OrderDate|Year|Month|\n",
            "+-------+----------+----+-----+\n",
            "|CA-1001|2023-01-15|2023|    1|\n",
            "|CA-1002|      NULL|NULL| NULL|\n",
            "|     20|      NULL|NULL| NULL|\n",
            "|CA-1003|2023-01-25|2023|    1|\n",
            "|CA-1004|2023-03-01|2023|    3|\n",
            "|CA-1005|2023-02-05|2023|    2|\n",
            "+-------+----------+----+-----+\n",
            "\n"
          ]
        }
      ]
    },
    {
      "cell_type": "markdown",
      "source": [
        "PART 3: Dask DataFrame Operations (Pandas Alternative)\n",
        "1. Install Dask:\n",
        "!pip install dask\n",
        "2. Load the same superstore.csv :\n",
        "import dask.dataframe as dd\n",
        "df = dd.read_csv('superstore.csv')\n",
        "3. Do the following:\n",
        "* Compute average discount by category.\n",
        "* Filter orders with more than 1 quantity and high profit.\n",
        "* Save filtered data to new CSV."
      ],
      "metadata": {
        "id": "4Re7mXoJ-3ym"
      }
    },
    {
      "cell_type": "code",
      "source": [
        "import dask.dataframe as dd\n",
        "\n",
        "df = dd.read_csv(path)\n",
        "# 3.a\n",
        "avg_discount = df.groupby('Category')[' Discount'].mean().compute()\n",
        "print(avg_discount)\n",
        "\n",
        "# 3.b\n",
        "filtered_df = df[(df['Quantity'] > 1) & (df[' Profit'] > 2000)]\n",
        "print(filtered_df)\n",
        "\n",
        "# 3.c\n",
        "filtered_df.to_csv('filtered_data.csv', index=False)\n",
        "print(\"File saved successfully\")"
      ],
      "metadata": {
        "colab": {
          "base_uri": "https://localhost:8080/"
        },
        "id": "Ko3DrSs0_DFT",
        "outputId": "288a279e-ddc9-459e-c7c4-714bd922d440"
      },
      "execution_count": 60,
      "outputs": [
        {
          "output_type": "stream",
          "name": "stdout",
          "text": [
            "Category\n",
            "Furniture             0.20\n",
            "Office Supplies       0.05\n",
            "Peripherals        1800.00\n",
            "Technology            0.05\n",
            "<NA>                   NaN\n",
            "Name:  Discount, dtype: float64\n",
            "Dask DataFrame Structure:\n",
            "              OrderID OrderDate Customer Segment  Region Product Category SubCategory Quantity UnitPrice  Discount   Profit\n",
            "npartitions=1                                                                                                              \n",
            "               string    string   string  string  string  string   string      string  float64   float64   float64  float64\n",
            "                  ...       ...      ...     ...     ...     ...      ...         ...      ...       ...       ...      ...\n",
            "Dask Name: getitem, 8 expressions\n",
            "Expr=Filter(frame=ArrowStringConversion(frame=FromMapProjectable(7b28fd1)), predicate=ArrowStringConversion(frame=FromMapProjectable(7b28fd1))['Quantity'] > 1 & ArrowStringConversion(frame=FromMapProjectable(7b28fd1))[' Profit'] > 2000)\n",
            "File saved successfully\n"
          ]
        }
      ]
    },
    {
      "cell_type": "markdown",
      "source": [
        "PART 4: JSON Handling (Complex Nested)\n",
        "1. Create a nested JSON file:\n",
        "\n",
        "[\n",
        "{\n",
        "\"OrderID\": \"CA-1001\",\n",
        "\"Customer\": {\"Name\": \"Ravi\", \"Segment\": \"Consumer\"},\n",
        "\"Details\": {\"Region\": \"South\", \"Profit\": 5000}\n",
        "},\n",
        "{\n",
        "\"OrderID\": \"CA-1002\",\n",
        "\"Customer\": {\"Name\": \"Priya\", \"Segment\": \"Corporate\"},\n",
        "\"Details\": {\"Region\": \"North\", \"Profit\": 1800}\n",
        "}\n",
        "]\n",
        "\n",
        "2. Load it using PySpark:\n",
        "* df_json = spark.read.json('orders.json', multiLine=True)\n",
        "* df_json.printSchema()\n",
        "* df_json.select(\"OrderID\", \"Customer.Name\", \"Details.Profit\").show()"
      ],
      "metadata": {
        "id": "uxzAdYgJCJyX"
      }
    },
    {
      "cell_type": "code",
      "source": [
        "path = '/content/mydrive/MyDrive/Hexware_Training_DataEngineering/orders.json'\n",
        "\n",
        "# 4.a\n",
        "df_for_json = spark.read.json(path, multiLine=True)\n",
        "\n",
        "# 4.b\n",
        "df_for_json.printSchema()\n",
        "\n",
        "# 4.c\n",
        "df_for_json.select(\"OrderID\", \"Customer.Name\", \"Details.Profit\").show()\n"
      ],
      "metadata": {
        "colab": {
          "base_uri": "https://localhost:8080/"
        },
        "id": "sabpZO0iCVOm",
        "outputId": "95b2116d-303c-45f4-e4aa-8b662bd4f3a9"
      },
      "execution_count": 61,
      "outputs": [
        {
          "output_type": "stream",
          "name": "stdout",
          "text": [
            "root\n",
            " |-- Customer: struct (nullable = true)\n",
            " |    |-- Name: string (nullable = true)\n",
            " |    |-- Segment: string (nullable = true)\n",
            " |-- Details: struct (nullable = true)\n",
            " |    |-- Profit: long (nullable = true)\n",
            " |    |-- Region: string (nullable = true)\n",
            " |-- OrderID: string (nullable = true)\n",
            "\n",
            "+-------+-----+------+\n",
            "|OrderID| Name|Profit|\n",
            "+-------+-----+------+\n",
            "|CA-1001| Ravi|  5000|\n",
            "|CA-1002|Priya|  1800|\n",
            "+-------+-----+------+\n",
            "\n"
          ]
        }
      ]
    }
  ]
}