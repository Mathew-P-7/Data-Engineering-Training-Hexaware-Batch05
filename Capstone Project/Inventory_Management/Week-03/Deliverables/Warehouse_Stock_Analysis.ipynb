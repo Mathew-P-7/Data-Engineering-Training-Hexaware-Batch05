{
  "nbformat": 4,
  "nbformat_minor": 0,
  "metadata": {
    "colab": {
      "provenance": []
    },
    "kernelspec": {
      "name": "python3",
      "display_name": "Python 3"
    },
    "language_info": {
      "name": "python"
    }
  },
  "cells": [
    {
      "cell_type": "code",
      "execution_count": 63,
      "metadata": {
        "colab": {
          "base_uri": "https://localhost:8080/",
          "height": 219
        },
        "id": "gZKpO_7Ge6VB",
        "outputId": "d5047831-bd0d-4b84-950e-a5df0d609253"
      },
      "outputs": [
        {
          "output_type": "execute_result",
          "data": {
            "text/plain": [
              "<pyspark.sql.session.SparkSession at 0x792c803ffdd0>"
            ],
            "text/html": [
              "\n",
              "            <div>\n",
              "                <p><b>SparkSession - in-memory</b></p>\n",
              "                \n",
              "        <div>\n",
              "            <p><b>SparkContext</b></p>\n",
              "\n",
              "            <p><a href=\"http://46a2eb1f298c:4040\">Spark UI</a></p>\n",
              "\n",
              "            <dl>\n",
              "              <dt>Version</dt>\n",
              "                <dd><code>v3.5.1</code></dd>\n",
              "              <dt>Master</dt>\n",
              "                <dd><code>local[*]</code></dd>\n",
              "              <dt>AppName</dt>\n",
              "                <dd><code>Warehouse_Level_Analysis</code></dd>\n",
              "            </dl>\n",
              "        </div>\n",
              "        \n",
              "            </div>\n",
              "        "
            ]
          },
          "metadata": {},
          "execution_count": 63
        }
      ],
      "source": [
        "from pyspark.sql import SparkSession\n",
        "\n",
        "spark = SparkSession.builder.appName(\"Warehouse_Level_Analysis\").getOrCreate()\n",
        "\n",
        "spark"
      ]
    },
    {
      "cell_type": "code",
      "source": [
        "from google.colab import drive\n",
        "drive.mount('/content/mydrive')"
      ],
      "metadata": {
        "colab": {
          "base_uri": "https://localhost:8080/"
        },
        "id": "CUzOK_mGfXPl",
        "outputId": "0887b057-7517-4cf7-8ef7-989351a6ad8b"
      },
      "execution_count": 64,
      "outputs": [
        {
          "output_type": "stream",
          "name": "stdout",
          "text": [
            "Drive already mounted at /content/mydrive; to attempt to forcibly remount, call drive.mount(\"/content/mydrive\", force_remount=True).\n"
          ]
        }
      ]
    },
    {
      "cell_type": "code",
      "source": [
        "from pyspark.sql.functions import *\n",
        "\n",
        "stockPath = (\n",
        "    \"/content/mydrive/MyDrive/Hexware_Training_DataEngineering/Project/\"\n",
        "    \"Inventory_Management_System/Week-03/cleaned_stock_data.csv\"\n",
        "    )\n",
        "warehousePath = (\n",
        "    \"/content/mydrive/MyDrive/Hexware_Training_DataEngineering/Project/\"\n",
        "    \"Inventory_Management_System/Week-03/warehouses.csv\"\n",
        "    )\n",
        "\n",
        "stockDF = spark.read.csv(stockPath, header=True, inferSchema=True)\n",
        "warehouseDF = spark.read.csv(warehousePath, header=True, inferSchema=True)\n",
        "\n",
        "\n",
        "print(\"Stock Dataframe Schema:\\n\")\n",
        "stockDF.printSchema()\n",
        "print(\"\\nWarehouse Dataframe Schema:\\n\")\n",
        "warehouseDF.printSchema()\n",
        "\n",
        "print(\"\\n Stock Dataframe:\\n\")\n",
        "stockDF.show(5)\n",
        "print(\"\\n Warehouse Dataframe:\\n\")\n",
        "warehouseDF.show(5)"
      ],
      "metadata": {
        "colab": {
          "base_uri": "https://localhost:8080/"
        },
        "id": "xmK0jhxqfl9T",
        "outputId": "3974026b-72dc-457a-f8bb-f568bce9ccf7"
      },
      "execution_count": 65,
      "outputs": [
        {
          "output_type": "stream",
          "name": "stdout",
          "text": [
            "Stock Dataframe Schema:\n",
            "\n",
            "root\n",
            " |-- movement_id: integer (nullable = true)\n",
            " |-- product_id: integer (nullable = true)\n",
            " |-- warehouse_id: integer (nullable = true)\n",
            " |-- quantity: integer (nullable = true)\n",
            " |-- movement_type: string (nullable = true)\n",
            " |-- movement_date: timestamp (nullable = true)\n",
            " |-- reference_number: string (nullable = true)\n",
            " |-- reason: string (nullable = true)\n",
            " |-- net_quantity: integer (nullable = true)\n",
            "\n",
            "\n",
            "Warehouse Dataframe Schema:\n",
            "\n",
            "root\n",
            " |-- warehouse_id: integer (nullable = true)\n",
            " |-- name: string (nullable = true)\n",
            " |-- location: string (nullable = true)\n",
            " |-- capacity: integer (nullable = true)\n",
            "\n",
            "\n",
            " Stock Dataframe:\n",
            "\n",
            "+-----------+----------+------------+--------+-------------+-------------------+----------------+-----------------+------------+\n",
            "|movement_id|product_id|warehouse_id|quantity|movement_type|      movement_date|reference_number|           reason|net_quantity|\n",
            "+-----------+----------+------------+--------+-------------+-------------------+----------------+-----------------+------------+\n",
            "|        401|       101|         201|    5500|           IN|2025-01-05 09:15:00|         PO-1001|    Initial stock|        5500|\n",
            "|        402|       102|         202|    6500|           IN|2025-01-05 10:30:00|         PO-1002|       Bulk order|        6500|\n",
            "|        403|       103|         203|    2800|           IN|2025-01-06 11:45:00|         PO-1003|Quarterly restock|        2800|\n",
            "|        404|       104|         204|   42000|           IN|2025-01-06 14:20:00|         PO-1004| New product line|       42000|\n",
            "|        405|       105|         205|    3800|           IN|2025-01-07 08:10:00|         PO-1005|Pre-holiday stock|        3800|\n",
            "+-----------+----------+------------+--------+-------------+-------------------+----------------+-----------------+------------+\n",
            "only showing top 5 rows\n",
            "\n",
            "\n",
            " Warehouse Dataframe:\n",
            "\n",
            "+------------+--------------------+---------------+--------+\n",
            "|warehouse_id|                name|       location|capacity|\n",
            "+------------+--------------------+---------------+--------+\n",
            "|         201|North Distributio...|    Chicago, IL|   10000|\n",
            "|         202|      West Coast Hub|Los Angeles, CA|   15000|\n",
            "|         203|       East Regional|   New York, NY|    8000|\n",
            "|         204|       South Central|     Dallas, TX|   12000|\n",
            "|         205|     Midwest Storage|Kansas City, MO|    9000|\n",
            "+------------+--------------------+---------------+--------+\n",
            "only showing top 5 rows\n",
            "\n"
          ]
        }
      ]
    },
    {
      "cell_type": "code",
      "source": [
        "# Grouping warehouse with current stock\n",
        "warehouse_stock = stockDF.groupBy(\"warehouse_id\").agg(sum(\"net_quantity\").alias(\"current_stock\"))\n",
        "warehouse_stock.show()"
      ],
      "metadata": {
        "colab": {
          "base_uri": "https://localhost:8080/"
        },
        "id": "hyeNPGksh61_",
        "outputId": "015ba5b8-7dbe-4df6-a667-6b10c9f27474"
      },
      "execution_count": 75,
      "outputs": [
        {
          "output_type": "stream",
          "name": "stdout",
          "text": [
            "+------------+-------------+\n",
            "|warehouse_id|current_stock|\n",
            "+------------+-------------+\n",
            "|         205|         4200|\n",
            "|         202|         3900|\n",
            "|         203|         8700|\n",
            "|         204|        40100|\n",
            "|         201|         7500|\n",
            "+------------+-------------+\n",
            "\n"
          ]
        }
      ]
    },
    {
      "cell_type": "code",
      "source": [
        "# Joining the two tables using inner join\n",
        "wh_analysis = warehouse_stock.join(warehouseDF, \"warehouse_id\",\"inner\")\\\n",
        "                  .select(\"warehouse_id\", \"name\", \"location\",\"current_stock\",\n",
        "                          \"capacity\")\n",
        "\n",
        "\n",
        "print(\"\\nCurrent Stock per Warehouse:\")\n",
        "wh_analysis.show()\n"
      ],
      "metadata": {
        "colab": {
          "base_uri": "https://localhost:8080/"
        },
        "id": "WKMxc4VojZnq",
        "outputId": "c08716ca-6b46-47ea-eca2-5296b5712ce9"
      },
      "execution_count": 67,
      "outputs": [
        {
          "output_type": "stream",
          "name": "stdout",
          "text": [
            "\n",
            "Current Stock per Warehouse:\n",
            "+------------+--------------------+---------------+-------------+--------+\n",
            "|warehouse_id|                name|       location|current_stock|capacity|\n",
            "+------------+--------------------+---------------+-------------+--------+\n",
            "|         201|North Distributio...|    Chicago, IL|         7500|   10000|\n",
            "|         202|      West Coast Hub|Los Angeles, CA|         3900|   15000|\n",
            "|         203|       East Regional|   New York, NY|         8700|    8000|\n",
            "|         204|       South Central|     Dallas, TX|        40100|   12000|\n",
            "|         205|     Midwest Storage|Kansas City, MO|         4200|    9000|\n",
            "+------------+--------------------+---------------+-------------+--------+\n",
            "\n"
          ]
        }
      ]
    },
    {
      "cell_type": "code",
      "source": [
        "# Usuage percentage calculation\n",
        "wh_analysis = wh_analysis.withColumn(\"usuage_percent\",\n",
        "    round((col(\"current_stock\") / col(\"capacity\")) * 100, 2)\n",
        ")"
      ],
      "metadata": {
        "id": "VElB2k7irFTY"
      },
      "execution_count": 68,
      "outputs": []
    },
    {
      "cell_type": "code",
      "source": [
        "wh_analysis = wh_analysis.withColumn(\n",
        "    \"status\",\n",
        "    when(col(\"usuage_percent\") > 70, \"OVERSTOCKED\")\n",
        "    .when(col(\"usuage_percent\") < 30, \"UNDERSTOCKED\")\n",
        "    .otherwise(\"NORMAL\")\n",
        ")"
      ],
      "metadata": {
        "id": "845XsVDBpLgK"
      },
      "execution_count": 69,
      "outputs": []
    },
    {
      "cell_type": "code",
      "source": [
        "print(\"\\nWarehouse Stock Status:\")\n",
        "wh_analysis.orderBy(\"usuage_percent\", ascending=False).show()"
      ],
      "metadata": {
        "colab": {
          "base_uri": "https://localhost:8080/"
        },
        "id": "QQER0PNKpZ8s",
        "outputId": "8963c064-568d-429c-9dce-aa277dc207eb"
      },
      "execution_count": 70,
      "outputs": [
        {
          "output_type": "stream",
          "name": "stdout",
          "text": [
            "\n",
            "Warehouse Stock Status:\n",
            "+------------+--------------------+---------------+-------------+--------+--------------+------------+\n",
            "|warehouse_id|                name|       location|current_stock|capacity|usuage_percent|      status|\n",
            "+------------+--------------------+---------------+-------------+--------+--------------+------------+\n",
            "|         204|       South Central|     Dallas, TX|        40100|   12000|        334.17| OVERSTOCKED|\n",
            "|         203|       East Regional|   New York, NY|         8700|    8000|        108.75| OVERSTOCKED|\n",
            "|         201|North Distributio...|    Chicago, IL|         7500|   10000|          75.0| OVERSTOCKED|\n",
            "|         205|     Midwest Storage|Kansas City, MO|         4200|    9000|         46.67|      NORMAL|\n",
            "|         202|      West Coast Hub|Los Angeles, CA|         3900|   15000|          26.0|UNDERSTOCKED|\n",
            "+------------+--------------------+---------------+-------------+--------+--------------+------------+\n",
            "\n"
          ]
        }
      ]
    },
    {
      "cell_type": "code",
      "source": [
        "warehouse_report = wh_analysis.select(\"warehouse_id\",\"name\",\"location\",\"current_stock\",\n",
        "    \"capacity\",\"usuage_percent\",\"status\"\n",
        "    ).orderBy(\"usuage_percent\", ascending=False)\n"
      ],
      "metadata": {
        "id": "YWqqwmqzplPF"
      },
      "execution_count": 71,
      "outputs": []
    },
    {
      "cell_type": "code",
      "source": [
        "warehouse_report.show()\n"
      ],
      "metadata": {
        "colab": {
          "base_uri": "https://localhost:8080/"
        },
        "id": "0gsPDHhFp4GQ",
        "outputId": "a7125c8f-2327-45be-8bd1-17b2deeeb515"
      },
      "execution_count": 72,
      "outputs": [
        {
          "output_type": "stream",
          "name": "stdout",
          "text": [
            "+------------+--------------------+---------------+-------------+--------+--------------+------------+\n",
            "|warehouse_id|                name|       location|current_stock|capacity|usuage_percent|      status|\n",
            "+------------+--------------------+---------------+-------------+--------+--------------+------------+\n",
            "|         204|       South Central|     Dallas, TX|        40100|   12000|        334.17| OVERSTOCKED|\n",
            "|         203|       East Regional|   New York, NY|         8700|    8000|        108.75| OVERSTOCKED|\n",
            "|         201|North Distributio...|    Chicago, IL|         7500|   10000|          75.0| OVERSTOCKED|\n",
            "|         205|     Midwest Storage|Kansas City, MO|         4200|    9000|         46.67|      NORMAL|\n",
            "|         202|      West Coast Hub|Los Angeles, CA|         3900|   15000|          26.0|UNDERSTOCKED|\n",
            "+------------+--------------------+---------------+-------------+--------+--------------+------------+\n",
            "\n"
          ]
        }
      ]
    },
    {
      "cell_type": "code",
      "source": [
        "output_path = (\n",
        "    \"/content/mydrive/MyDrive/Hexware_Training_DataEngineering/Project/\"\n",
        "    \"Inventory_Management_System/Week-03/warehouse_stock_status.csv\"\n",
        ")\n",
        "\n",
        "\n",
        "report = wh_analysis.toPandas()\n",
        "\n",
        "report.to_csv(output_path, index=False)\n",
        "print(\" Report successfully saved \")"
      ],
      "metadata": {
        "colab": {
          "base_uri": "https://localhost:8080/"
        },
        "id": "zhBt0Ys9k2JG",
        "outputId": "8a6c25d2-b6f3-4230-97c6-a11b2f125697"
      },
      "execution_count": 74,
      "outputs": [
        {
          "output_type": "stream",
          "name": "stdout",
          "text": [
            " Report successfully saved \n"
          ]
        }
      ]
    }
  ]
}