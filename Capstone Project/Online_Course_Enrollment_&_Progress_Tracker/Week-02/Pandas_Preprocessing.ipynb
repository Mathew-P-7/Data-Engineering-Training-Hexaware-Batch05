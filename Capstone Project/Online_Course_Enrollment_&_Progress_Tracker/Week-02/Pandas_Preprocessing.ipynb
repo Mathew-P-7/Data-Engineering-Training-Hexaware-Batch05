{
  "nbformat": 4,
  "nbformat_minor": 0,
  "metadata": {
    "colab": {
      "provenance": []
    },
    "kernelspec": {
      "name": "python3",
      "display_name": "Python 3"
    },
    "language_info": {
      "name": "python"
    }
  },
  "cells": [
    {
      "cell_type": "markdown",
      "source": [
        "# Online Course Enrollment and Progress Tracker"
      ],
      "metadata": {
        "id": "xPEnIXUf6eg3"
      }
    },
    {
      "cell_type": "markdown",
      "source": [
        "## Week 2 - Data Preprocessing in Python\n",
        "\n",
        "**Tools**: Python (Pandas, Numpy)\n",
        "**Tasks**:\n",
        "- Load enrollment and progress data from CSV or mock API\n",
        "- Clean invalid entries (missing names, dates, percentages)\n",
        "- Use numpy to calculate average progress\n",
        "- Use pandas to group by course and compute average completion rates\n",
        "\n",
        "**Deliverables**:\n",
        "- Cleaned data showing student progress\n",
        "- Python report of course-level averages"
      ],
      "metadata": {
        "id": "HUAp5IFN6p_D"
      }
    },
    {
      "cell_type": "code",
      "execution_count": 2,
      "metadata": {
        "colab": {
          "base_uri": "https://localhost:8080/"
        },
        "id": "LA_E9-XqN2Q8",
        "outputId": "db432f0a-568f-49a8-e351-5bea483d777c"
      },
      "outputs": [
        {
          "output_type": "stream",
          "name": "stdout",
          "text": [
            "Mounted at /content/mydrive\n"
          ]
        }
      ],
      "source": [
        "from google.colab import drive\n",
        "drive.mount('/content/mydrive')"
      ]
    },
    {
      "cell_type": "markdown",
      "source": [
        "**1. DATA EXTRACTION**"
      ],
      "metadata": {
        "id": "e5nhjwPX7rMD"
      }
    },
    {
      "cell_type": "code",
      "source": [
        "import pandas as pd\n",
        "import numpy as np\n",
        "\n",
        "enrollment_path = (''\n",
        "    \"/content/mydrive/MyDrive/Hexware_Training_DataEngineering/Project/\"\n",
        "    \"Online_Course_Enrollment_And_Progress_Tracker/Week 2/Enrollment.csv\"\n",
        ")\n",
        "\n",
        "progress_path = (\n",
        "    \"/content/mydrive/MyDrive/Hexware_Training_DataEngineering/Project/\"\n",
        "    \"Online_Course_Enrollment_And_Progress_Tracker/Week 2/Progress.csv\"\n",
        ")\n",
        "\n",
        "enrollment_df = pd.read_csv(enrollment_path)\n",
        "progress_df = pd.read_csv(progress_path)"
      ],
      "metadata": {
        "id": "rXKvyDqQhAhX"
      },
      "execution_count": 3,
      "outputs": []
    },
    {
      "cell_type": "code",
      "source": [
        "print(\"Enrollment data:\\n\",enrollment_df)\n",
        "print(\"\\nProgress data:\\n\",progress_df)"
      ],
      "metadata": {
        "colab": {
          "base_uri": "https://localhost:8080/"
        },
        "id": "PU7NaCNmiuMc",
        "outputId": "722af2bf-e37d-4c0b-f32e-6147b650a4c9"
      },
      "execution_count": null,
      "outputs": [
        {
          "output_type": "stream",
          "name": "stdout",
          "text": [
            "Enrollment data:\n",
            "     enrollment_id  student_id  course_id enrollment_date\n",
            "0             302       101.0      202.0      2025-07-02\n",
            "1             303       102.0      201.0      2025-07-03\n",
            "2             304       103.0      203.0      2025-07-04\n",
            "3             305       104.0      204.0      2025-07-05\n",
            "4             306       101.0      201.0      2025-05-10\n",
            "5             307       104.0      202.0      2025-07-10\n",
            "6             308       105.0      203.0      2025-07-11\n",
            "7             309       101.0      203.0      2025-07-12\n",
            "8             310       103.0      201.0      2025-07-13\n",
            "9             311         NaN      203.0      2024-05-01\n",
            "10            312       104.0        NaN      2024-06-15\n",
            "11            313       105.0      201.0             NaN\n",
            "12            314       104.0      202.0    invalid-date\n",
            "13            315       106.0      204.0      2024-07-01\n",
            "\n",
            "Progress data:\n",
            "     progress_id  student_id  course_id  completion_percentage last_updated\n",
            "0           401       101.0        201                   85.0   2025-08-10\n",
            "1           402       101.0        202                   40.0   2025-07-16\n",
            "2           403       102.0        201                   60.0   2025-07-14\n",
            "3           404       103.0        203                   10.0   2025-07-18\n",
            "4           405       104.0        204                  100.0   2025-07-17\n",
            "5           406       101.0        201                   85.0   2025-08-10\n",
            "6           407       104.0        202                   45.0   2025-07-20\n",
            "7           408       105.0        203                   80.0   2025-07-25\n",
            "8           409       101.0        203                  100.0   2025-07-28\n",
            "9           410       103.0        201                   60.0   2025-07-29\n",
            "10          411       101.0        201                    NaN   2024-06-01\n",
            "11          412       102.0        203                  101.0   2024-06-05\n",
            "12          413         NaN        202                   55.5   2024-06-07\n",
            "13          414       103.0        201                   70.0          NaN\n",
            "14          415       104.0        203                  -10.0   2024-06-10\n"
          ]
        }
      ]
    },
    {
      "cell_type": "code",
      "source": [
        "print(\"Enrollment Info:\\n\" )\n",
        "enrollment_df.info()\n",
        "print(\"\\nProgress Info:\\n\")\n",
        "progress_df.info()"
      ],
      "metadata": {
        "colab": {
          "base_uri": "https://localhost:8080/"
        },
        "id": "_UF5Qqh2fYq-",
        "outputId": "4764f8af-c05c-4620-e910-5e1b4de566a3"
      },
      "execution_count": 7,
      "outputs": [
        {
          "output_type": "stream",
          "name": "stdout",
          "text": [
            "Enrollment Info:\n",
            "\n",
            "<class 'pandas.core.frame.DataFrame'>\n",
            "RangeIndex: 14 entries, 0 to 13\n",
            "Data columns (total 4 columns):\n",
            " #   Column           Non-Null Count  Dtype  \n",
            "---  ------           --------------  -----  \n",
            " 0   enrollment_id    14 non-null     int64  \n",
            " 1   student_id       13 non-null     float64\n",
            " 2   course_id        13 non-null     float64\n",
            " 3   enrollment_date  13 non-null     object \n",
            "dtypes: float64(2), int64(1), object(1)\n",
            "memory usage: 580.0+ bytes\n",
            "\n",
            "Progress Info:\n",
            "\n",
            "<class 'pandas.core.frame.DataFrame'>\n",
            "RangeIndex: 15 entries, 0 to 14\n",
            "Data columns (total 5 columns):\n",
            " #   Column                 Non-Null Count  Dtype  \n",
            "---  ------                 --------------  -----  \n",
            " 0   progress_id            15 non-null     int64  \n",
            " 1   student_id             14 non-null     float64\n",
            " 2   course_id              15 non-null     int64  \n",
            " 3   completion_percentage  14 non-null     float64\n",
            " 4   last_updated           14 non-null     object \n",
            "dtypes: float64(2), int64(2), object(1)\n",
            "memory usage: 732.0+ bytes\n"
          ]
        }
      ]
    },
    {
      "cell_type": "markdown",
      "source": [
        "**2. DATA CLEANING**"
      ],
      "metadata": {
        "id": "_7shoFe87cZ8"
      }
    },
    {
      "cell_type": "code",
      "source": [
        "# Data Cleaning\n",
        "# Checking for missing Values in both tables\n",
        "\n",
        "print(\"Missing values in Enrollment:\\n\", enrollment_df.isnull().sum())\n",
        "print(\"\\nMissing values in Progress:\\n\", progress_df.isnull().sum())"
      ],
      "metadata": {
        "colab": {
          "base_uri": "https://localhost:8080/"
        },
        "id": "GCo-m5s6jBHi",
        "outputId": "1643bd28-cc27-4eaf-ad84-22c59e5fdc46"
      },
      "execution_count": 4,
      "outputs": [
        {
          "output_type": "stream",
          "name": "stdout",
          "text": [
            "Missing values in Enrollment:\n",
            " enrollment_id      0\n",
            "student_id         1\n",
            "course_id          1\n",
            "enrollment_date    1\n",
            "dtype: int64\n",
            "\n",
            "Missing values in Progress:\n",
            " progress_id              0\n",
            "student_id               1\n",
            "course_id                0\n",
            "completion_percentage    1\n",
            "last_updated             1\n",
            "dtype: int64\n"
          ]
        }
      ]
    },
    {
      "cell_type": "code",
      "source": [
        "# Filling the missing values\n",
        "enrollment_cleaned = enrollment_df.dropna(subset=['student_id', 'course_id' ])\n",
        "print(\"Successfully Enrollment missing values dropped\")\n",
        "progress_cleaned = progress_df.dropna(subset=['student_id'])\n",
        "print(\"\\nSuccessfully Progress missing values dropped\")\n"
      ],
      "metadata": {
        "id": "mP-Zt74TtDbw",
        "colab": {
          "base_uri": "https://localhost:8080/"
        },
        "outputId": "a0bd254c-0695-431b-9309-97c3ae6dad76"
      },
      "execution_count": 9,
      "outputs": [
        {
          "output_type": "stream",
          "name": "stdout",
          "text": [
            "Successfully Enrollment missing values dropped\n",
            "\n",
            "Successfully Progress missing values dropped\n"
          ]
        }
      ]
    },
    {
      "cell_type": "code",
      "source": [
        "# Drop rows with missing IDs\n",
        "\n",
        "enrollment_cleaned = enrollment_df.dropna(subset=['student_id', 'course_id']).copy()\n",
        "progress_cleaned = progress_df.dropna(subset=['student_id']).copy()\n",
        "\n",
        "print(\"Successfully Enrollment & Progress missing values dropped\")\n",
        "\n",
        "#  Converting date columns\n",
        "enrollment_cleaned.loc[:, 'enrollment_date'] = pd.to_datetime(\n",
        "    enrollment_cleaned['enrollment_date'], errors='coerce'\n",
        ")\n",
        "\n",
        "progress_cleaned.loc[:, 'last_updated'] = pd.to_datetime(\n",
        "    progress_cleaned['last_updated'], errors='coerce'\n",
        ")\n",
        "\n",
        "# Step 3: Drop rows with failed date conversion\n",
        "enrollment_cleaned = enrollment_cleaned.dropna(subset=['enrollment_date'])\n",
        "progress_cleaned = progress_cleaned.dropna(subset=['last_updated'])\n",
        "\n",
        "print(\"\\nSuccessfully cleaned invalid date entries\")\n"
      ],
      "metadata": {
        "colab": {
          "base_uri": "https://localhost:8080/"
        },
        "id": "KOe5Jvrmqkwt",
        "outputId": "ca1fa3d5-9f04-41af-fee7-50512d422515"
      },
      "execution_count": 13,
      "outputs": [
        {
          "output_type": "stream",
          "name": "stdout",
          "text": [
            "Successfully Enrollment & Progress missing values dropped\n",
            "\n",
            "Successfully cleaned invalid date entries\n"
          ]
        }
      ]
    },
    {
      "cell_type": "code",
      "source": [
        "print(\"Enrollment data:\\n\",enrollment_cleaned)\n",
        "print(\"\\nProgress data:\\n\",progress_cleaned)\n",
        "\n",
        "print(\"\\nMissing values in Enrollment:\\n\", enrollment_cleaned.isnull().sum())\n",
        "print(\"\\nMissing values in Progress:\\n\", progress_cleaned.isnull().sum())"
      ],
      "metadata": {
        "colab": {
          "base_uri": "https://localhost:8080/"
        },
        "id": "Ou9TyuxKw-qK",
        "outputId": "b0e75de4-b28f-4374-bca1-d75bcee2ad3c"
      },
      "execution_count": 17,
      "outputs": [
        {
          "output_type": "stream",
          "name": "stdout",
          "text": [
            "Enrollment data:\n",
            "     enrollment_id  student_id  course_id      enrollment_date\n",
            "0             302       101.0      202.0  2025-07-02 00:00:00\n",
            "1             303       102.0      201.0  2025-07-03 00:00:00\n",
            "2             304       103.0      203.0  2025-07-04 00:00:00\n",
            "3             305       104.0      204.0  2025-07-05 00:00:00\n",
            "4             306       101.0      201.0  2025-05-10 00:00:00\n",
            "5             307       104.0      202.0  2025-07-10 00:00:00\n",
            "6             308       105.0      203.0  2025-07-11 00:00:00\n",
            "7             309       101.0      203.0  2025-07-12 00:00:00\n",
            "8             310       103.0      201.0  2025-07-13 00:00:00\n",
            "13            315       106.0      204.0  2024-07-01 00:00:00\n",
            "\n",
            "Progress data:\n",
            "     progress_id  student_id  course_id  completion_percentage  \\\n",
            "0           401       101.0        201                   85.0   \n",
            "1           402       101.0        202                   40.0   \n",
            "2           403       102.0        201                   60.0   \n",
            "3           404       103.0        203                   10.0   \n",
            "4           405       104.0        204                  100.0   \n",
            "5           406       101.0        201                   85.0   \n",
            "6           407       104.0        202                   45.0   \n",
            "7           408       105.0        203                   80.0   \n",
            "8           409       101.0        203                  100.0   \n",
            "9           410       103.0        201                   60.0   \n",
            "10          411       101.0        201                    NaN   \n",
            "11          412       102.0        203                  101.0   \n",
            "14          415       104.0        203                  -10.0   \n",
            "\n",
            "           last_updated  \n",
            "0   2025-08-10 00:00:00  \n",
            "1   2025-07-16 00:00:00  \n",
            "2   2025-07-14 00:00:00  \n",
            "3   2025-07-18 00:00:00  \n",
            "4   2025-07-17 00:00:00  \n",
            "5   2025-08-10 00:00:00  \n",
            "6   2025-07-20 00:00:00  \n",
            "7   2025-07-25 00:00:00  \n",
            "8   2025-07-28 00:00:00  \n",
            "9   2025-07-29 00:00:00  \n",
            "10  2024-06-01 00:00:00  \n",
            "11  2024-06-05 00:00:00  \n",
            "14  2024-06-10 00:00:00  \n",
            "\n",
            "Missing values in Enrollment:\n",
            " enrollment_id      0\n",
            "student_id         0\n",
            "course_id          0\n",
            "enrollment_date    0\n",
            "dtype: int64\n",
            "\n",
            "Missing values in Progress:\n",
            " progress_id              0\n",
            "student_id               0\n",
            "course_id                0\n",
            "completion_percentage    1\n",
            "last_updated             0\n",
            "dtype: int64\n"
          ]
        }
      ]
    },
    {
      "cell_type": "code",
      "source": [
        "# At last we have only missing value in completion_percentage\n",
        "progress_cleaned = progress_cleaned.dropna(subset=['completion_percentage'])"
      ],
      "metadata": {
        "id": "bwsh92tFwdCq"
      },
      "execution_count": 18,
      "outputs": []
    },
    {
      "cell_type": "markdown",
      "source": [
        "**3. DATA TRANSFORMATION**"
      ],
      "metadata": {
        "id": "0r7Dx6zmxbWI"
      }
    },
    {
      "cell_type": "code",
      "source": [
        "# Converting data types\n",
        "# Enrollment table\n",
        "enrollment_cleaned['student_id'] = enrollment_cleaned['student_id'].astype('Int64')\n",
        "enrollment_cleaned['course_id'] = enrollment_cleaned['course_id'].astype('Int64')\n",
        "\n",
        "\n",
        "\n",
        "print(\"Type changed in Enrollment Data\")\n",
        "# Progress table\n",
        "progress_cleaned['student_id'] = progress_cleaned['student_id'].astype('Int64')\n",
        "progress_cleaned['course_id'] = progress_cleaned['course_id'].astype('Int64')\n",
        "\n",
        "\n",
        "progress_cleaned['completion_percentage'] = pd.to_numeric(progress_cleaned['completion_percentage'], errors='coerce').fillna(0)\n",
        "progress_cleaned['completion_percentage'] = np.clip(progress_cleaned['completion_percentage'], 0, 100)\n",
        "print(\"Progress table percentage type changed\")\n"
      ],
      "metadata": {
        "id": "AMI-tuJtumHH",
        "colab": {
          "base_uri": "https://localhost:8080/"
        },
        "outputId": "36021f8f-cdde-4196-8931-58fdf731890c"
      },
      "execution_count": 26,
      "outputs": [
        {
          "output_type": "stream",
          "name": "stdout",
          "text": [
            "Type changed in Enrollment Data\n",
            "Progress table percentage type changed\n"
          ]
        }
      ]
    },
    {
      "cell_type": "markdown",
      "source": [
        "**Final Check**\n",
        "\n",
        "1. Checking for the missing values in both table\n",
        "2. Checking the data type of each column\n",
        "3. Showing the Datasets"
      ],
      "metadata": {
        "id": "aZaNQpLkzxIW"
      }
    },
    {
      "cell_type": "code",
      "source": [
        "# 1\n",
        "print(\"Missing values in Cleaned Enrollment:\\n\", enrollment_cleaned.isnull().sum())\n",
        "print(\"\\nMissing values in Cleaned Progress:\\n\", progress_cleaned.isnull().sum())\n",
        "\n",
        "# 2\n",
        "print(\"\\nCleaned Enrollment data types:\\n\", enrollment_cleaned.dtypes)\n",
        "print(\"\\nCleaned Progress data types:\\n\", progress_cleaned.dtypes)\n",
        "\n",
        "# 3\n",
        "print(\"\\nCleaned Enrollment data:\\n\", enrollment_cleaned)\n",
        "print(\"\\nCleaned Progress data:\\n\", progress_cleaned)"
      ],
      "metadata": {
        "colab": {
          "base_uri": "https://localhost:8080/"
        },
        "id": "BBtfCZnEzvu0",
        "outputId": "fe634748-5ca1-4eef-efdb-328bf788cee5"
      },
      "execution_count": 28,
      "outputs": [
        {
          "output_type": "stream",
          "name": "stdout",
          "text": [
            "Missing values in Cleaned Enrollment:\n",
            " enrollment_id      0\n",
            "student_id         0\n",
            "course_id          0\n",
            "enrollment_date    0\n",
            "dtype: int64\n",
            "\n",
            "Missing values in Cleaned Progress:\n",
            " progress_id              0\n",
            "student_id               0\n",
            "course_id                0\n",
            "completion_percentage    0\n",
            "last_updated             0\n",
            "dtype: int64\n",
            "\n",
            "Cleaned Enrollment data types:\n",
            " enrollment_id       int64\n",
            "student_id          Int64\n",
            "course_id           Int64\n",
            "enrollment_date    object\n",
            "dtype: object\n",
            "\n",
            "Cleaned Progress data types:\n",
            " progress_id                int64\n",
            "student_id                 Int64\n",
            "course_id                  Int64\n",
            "completion_percentage    float64\n",
            "last_updated              object\n",
            "dtype: object\n",
            "\n",
            "Cleaned Enrollment data:\n",
            "     enrollment_id  student_id  course_id      enrollment_date\n",
            "0             302         101        202  2025-07-02 00:00:00\n",
            "1             303         102        201  2025-07-03 00:00:00\n",
            "2             304         103        203  2025-07-04 00:00:00\n",
            "3             305         104        204  2025-07-05 00:00:00\n",
            "4             306         101        201  2025-05-10 00:00:00\n",
            "5             307         104        202  2025-07-10 00:00:00\n",
            "6             308         105        203  2025-07-11 00:00:00\n",
            "7             309         101        203  2025-07-12 00:00:00\n",
            "8             310         103        201  2025-07-13 00:00:00\n",
            "13            315         106        204  2024-07-01 00:00:00\n",
            "\n",
            "Cleaned Progress data:\n",
            "     progress_id  student_id  course_id  completion_percentage  \\\n",
            "0           401         101        201                   85.0   \n",
            "1           402         101        202                   40.0   \n",
            "2           403         102        201                   60.0   \n",
            "3           404         103        203                   10.0   \n",
            "4           405         104        204                  100.0   \n",
            "5           406         101        201                   85.0   \n",
            "6           407         104        202                   45.0   \n",
            "7           408         105        203                   80.0   \n",
            "8           409         101        203                  100.0   \n",
            "9           410         103        201                   60.0   \n",
            "11          412         102        203                  100.0   \n",
            "14          415         104        203                    0.0   \n",
            "\n",
            "           last_updated  \n",
            "0   2025-08-10 00:00:00  \n",
            "1   2025-07-16 00:00:00  \n",
            "2   2025-07-14 00:00:00  \n",
            "3   2025-07-18 00:00:00  \n",
            "4   2025-07-17 00:00:00  \n",
            "5   2025-08-10 00:00:00  \n",
            "6   2025-07-20 00:00:00  \n",
            "7   2025-07-25 00:00:00  \n",
            "8   2025-07-28 00:00:00  \n",
            "9   2025-07-29 00:00:00  \n",
            "11  2024-06-05 00:00:00  \n",
            "14  2024-06-10 00:00:00  \n"
          ]
        }
      ]
    },
    {
      "cell_type": "markdown",
      "source": [
        "**Average Progress**"
      ],
      "metadata": {
        "id": "Jgbp_tgx30qV"
      }
    },
    {
      "cell_type": "code",
      "source": [
        "avg_total = np.mean(progress_cleaned['completion_percentage'])\n",
        "print(f\"Overall Average Progress: {round(avg_total, 2)}%\")"
      ],
      "metadata": {
        "colab": {
          "base_uri": "https://localhost:8080/"
        },
        "id": "A8QHT2n138IH",
        "outputId": "4bea4d72-66f0-48b3-9b6c-f7c033415d0c"
      },
      "execution_count": 29,
      "outputs": [
        {
          "output_type": "stream",
          "name": "stdout",
          "text": [
            "Overall Average Progress: 63.75%\n"
          ]
        }
      ]
    },
    {
      "cell_type": "markdown",
      "source": [
        "**Group by Course**"
      ],
      "metadata": {
        "id": "8b0BD5Vv4YeT"
      }
    },
    {
      "cell_type": "code",
      "source": [
        "course_avg = progress_cleaned.groupby('course_id')['completion_percentage'].mean().reset_index()\n",
        "course_avg.rename(columns={'completion_percentage': 'avg_completion_percentage'}, inplace=True)\n",
        "print(\"\\nCourse-level Averages:\")\n",
        "print(course_avg)\n"
      ],
      "metadata": {
        "colab": {
          "base_uri": "https://localhost:8080/"
        },
        "id": "wdXs5jHL4c96",
        "outputId": "7f73cfcb-dbac-4c38-942b-c205c625ebf3"
      },
      "execution_count": 30,
      "outputs": [
        {
          "output_type": "stream",
          "name": "stdout",
          "text": [
            "\n",
            "Course-level Averages:\n",
            "   course_id  avg_completion_percentage\n",
            "0        201                       72.5\n",
            "1        202                       42.5\n",
            "2        203                       58.0\n",
            "3        204                      100.0\n"
          ]
        }
      ]
    },
    {
      "cell_type": "markdown",
      "source": [
        "**4. LOADING DATA**\n",
        "\n",
        "Saving the Cleaned Datasets and the Course Level Average progress into Google Drive"
      ],
      "metadata": {
        "id": "rLNhG-332YW6"
      }
    },
    {
      "cell_type": "code",
      "source": [
        "# Saving Cleaned data\n",
        "clean_enrollment_path = (''\n",
        "    \"/content/mydrive/MyDrive/Hexware_Training_DataEngineering/Project/\"\n",
        "    \"Online_Course_Enrollment_And_Progress_Tracker/Week 2/Cleaned_Enrollment.csv\"\n",
        ")\n",
        "\n",
        "clean_progress_path = (\n",
        "    \"/content/mydrive/MyDrive/Hexware_Training_DataEngineering/Project/\"\n",
        "    \"Online_Course_Enrollment_And_Progress_Tracker/Week 2/Cleaned_Progress.csv\"\n",
        ")\n",
        "\n",
        "course_avg_path = (\n",
        "    \"/content/mydrive/MyDrive/Hexware_Training_DataEngineering/Project/\"\n",
        "    \"Online_Course_Enrollment_And_Progress_Tracker/Week 2/Course_Level_Average_Progress.csv\"\n",
        ")\n",
        "enrollment_cleaned.to_csv(clean_enrollment_path, index=False)\n",
        "progress_cleaned.to_csv(clean_progress_path, index=False)\n",
        "course_avg.to_csv(course_avg_path, index=False)"
      ],
      "metadata": {
        "id": "WmKu6cCwvAe0"
      },
      "execution_count": 31,
      "outputs": []
    }
  ]
}